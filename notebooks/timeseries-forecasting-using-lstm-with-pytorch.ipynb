{
 "cells": [
  {
   "cell_type": "code",
   "execution_count": 1,
   "id": "abcfa33b",
   "metadata": {
    "_cell_guid": "b1076dfc-b9ad-4769-8c92-a6c4dae69d19",
    "_uuid": "8f2839f25d086af736a60e9eeb907d3b93b6e0e5",
    "execution": {
     "iopub.execute_input": "2023-12-20T00:01:25.430683Z",
     "iopub.status.busy": "2023-12-20T00:01:25.430253Z",
     "iopub.status.idle": "2023-12-20T00:01:25.448921Z",
     "shell.execute_reply": "2023-12-20T00:01:25.447803Z"
    },
    "papermill": {
     "duration": 0.026233,
     "end_time": "2023-12-20T00:01:25.451228",
     "exception": false,
     "start_time": "2023-12-20T00:01:25.424995",
     "status": "completed"
    },
    "tags": []
   },
   "outputs": [
    {
     "name": "stdout",
     "output_type": "stream",
     "text": [
      "/kaggle/input/hourly-electricity-consumption-and-production/electricityConsumptionAndProductioction.csv\n"
     ]
    }
   ],
   "source": [
    "# This Python 3 environment comes with many helpful analytics libraries installed\n",
    "# It is defined by the kaggle/python Docker image: https://github.com/kaggle/docker-python\n",
    "# For example, here's several helpful packages to load\n",
    "\n",
    "# Input data files are available in the read-only \"../input/\" directory\n",
    "# For example, running this (by clicking run or pressing Shift+Enter) will list all files under the input directory\n",
    "\n",
    "import os\n",
    "for dirname, _, filenames in os.walk('/kaggle/input'):\n",
    "    for filename in filenames:\n",
    "        print(os.path.join(dirname, filename))\n",
    "\n",
    "# You can write up to 20GB to the current directory (/kaggle/working/) that gets preserved as output when you create a version using \"Save & Run All\" \n",
    "# You can also write temporary files to /kaggle/temp/, but they won't be saved outside of the current session"
   ]
  },
  {
   "cell_type": "markdown",
   "id": "811ba4c8",
   "metadata": {
    "papermill": {
     "duration": 0.002914,
     "end_time": "2023-12-20T00:01:25.457694",
     "exception": false,
     "start_time": "2023-12-20T00:01:25.454780",
     "status": "completed"
    },
    "tags": []
   },
   "source": [
    "# Intro"
   ]
  },
  {
   "cell_type": "markdown",
   "id": "45885c57",
   "metadata": {
    "papermill": {
     "duration": 0.002848,
     "end_time": "2023-12-20T00:01:25.463729",
     "exception": false,
     "start_time": "2023-12-20T00:01:25.460881",
     "status": "completed"
    },
    "tags": []
   },
   "source": [
    "# Imports"
   ]
  },
  {
   "cell_type": "code",
   "execution_count": 2,
   "id": "718c9946",
   "metadata": {
    "execution": {
     "iopub.execute_input": "2023-12-20T00:01:25.471941Z",
     "iopub.status.busy": "2023-12-20T00:01:25.471281Z",
     "iopub.status.idle": "2023-12-20T00:01:35.534519Z",
     "shell.execute_reply": "2023-12-20T00:01:35.533592Z"
    },
    "papermill": {
     "duration": 10.070425,
     "end_time": "2023-12-20T00:01:35.537179",
     "exception": false,
     "start_time": "2023-12-20T00:01:25.466754",
     "status": "completed"
    },
    "tags": []
   },
   "outputs": [],
   "source": [
    "import numpy as np\n",
    "import pandas as pd\n",
    "\n",
    "import torch\n",
    "import torch.nn as nn\n",
    "from sklearn.preprocessing import StandardScaler\n",
    "from torch.utils.data import DataLoader, TensorDataset\n",
    "import matplotlib.pyplot as plt\n",
    "import pytorch_lightning as pl"
   ]
  },
  {
   "cell_type": "markdown",
   "id": "bea4ff74",
   "metadata": {
    "papermill": {
     "duration": 0.003004,
     "end_time": "2023-12-20T00:01:35.543659",
     "exception": false,
     "start_time": "2023-12-20T00:01:35.540655",
     "status": "completed"
    },
    "tags": []
   },
   "source": [
    "# Loading data"
   ]
  },
  {
   "cell_type": "code",
   "execution_count": 3,
   "id": "b1f8711c",
   "metadata": {
    "execution": {
     "iopub.execute_input": "2023-12-20T00:01:35.551900Z",
     "iopub.status.busy": "2023-12-20T00:01:35.551311Z",
     "iopub.status.idle": "2023-12-20T00:01:35.666339Z",
     "shell.execute_reply": "2023-12-20T00:01:35.665149Z"
    },
    "papermill": {
     "duration": 0.122332,
     "end_time": "2023-12-20T00:01:35.669173",
     "exception": false,
     "start_time": "2023-12-20T00:01:35.546841",
     "status": "completed"
    },
    "tags": []
   },
   "outputs": [
    {
     "data": {
      "text/html": [
       "<div>\n",
       "<style scoped>\n",
       "    .dataframe tbody tr th:only-of-type {\n",
       "        vertical-align: middle;\n",
       "    }\n",
       "\n",
       "    .dataframe tbody tr th {\n",
       "        vertical-align: top;\n",
       "    }\n",
       "\n",
       "    .dataframe thead th {\n",
       "        text-align: right;\n",
       "    }\n",
       "</style>\n",
       "<table border=\"1\" class=\"dataframe\">\n",
       "  <thead>\n",
       "    <tr style=\"text-align: right;\">\n",
       "      <th></th>\n",
       "      <th>DateTime</th>\n",
       "      <th>Consumption</th>\n",
       "      <th>Production</th>\n",
       "      <th>Nuclear</th>\n",
       "      <th>Wind</th>\n",
       "      <th>Hydroelectric</th>\n",
       "      <th>Oil and Gas</th>\n",
       "      <th>Coal</th>\n",
       "      <th>Solar</th>\n",
       "      <th>Biomass</th>\n",
       "    </tr>\n",
       "  </thead>\n",
       "  <tbody>\n",
       "    <tr>\n",
       "      <th>0</th>\n",
       "      <td>2019-01-01 00:00:00</td>\n",
       "      <td>6352</td>\n",
       "      <td>6527</td>\n",
       "      <td>1395</td>\n",
       "      <td>79</td>\n",
       "      <td>1383</td>\n",
       "      <td>1896</td>\n",
       "      <td>1744</td>\n",
       "      <td>0</td>\n",
       "      <td>30</td>\n",
       "    </tr>\n",
       "    <tr>\n",
       "      <th>1</th>\n",
       "      <td>2019-01-01 01:00:00</td>\n",
       "      <td>6116</td>\n",
       "      <td>5701</td>\n",
       "      <td>1393</td>\n",
       "      <td>96</td>\n",
       "      <td>1112</td>\n",
       "      <td>1429</td>\n",
       "      <td>1641</td>\n",
       "      <td>0</td>\n",
       "      <td>30</td>\n",
       "    </tr>\n",
       "    <tr>\n",
       "      <th>2</th>\n",
       "      <td>2019-01-01 02:00:00</td>\n",
       "      <td>5873</td>\n",
       "      <td>5676</td>\n",
       "      <td>1393</td>\n",
       "      <td>142</td>\n",
       "      <td>1030</td>\n",
       "      <td>1465</td>\n",
       "      <td>1616</td>\n",
       "      <td>0</td>\n",
       "      <td>30</td>\n",
       "    </tr>\n",
       "    <tr>\n",
       "      <th>3</th>\n",
       "      <td>2019-01-01 03:00:00</td>\n",
       "      <td>5682</td>\n",
       "      <td>5603</td>\n",
       "      <td>1397</td>\n",
       "      <td>191</td>\n",
       "      <td>972</td>\n",
       "      <td>1455</td>\n",
       "      <td>1558</td>\n",
       "      <td>0</td>\n",
       "      <td>30</td>\n",
       "    </tr>\n",
       "    <tr>\n",
       "      <th>4</th>\n",
       "      <td>2019-01-01 04:00:00</td>\n",
       "      <td>5557</td>\n",
       "      <td>5454</td>\n",
       "      <td>1393</td>\n",
       "      <td>159</td>\n",
       "      <td>960</td>\n",
       "      <td>1454</td>\n",
       "      <td>1458</td>\n",
       "      <td>0</td>\n",
       "      <td>30</td>\n",
       "    </tr>\n",
       "  </tbody>\n",
       "</table>\n",
       "</div>"
      ],
      "text/plain": [
       "              DateTime  Consumption  Production  Nuclear  Wind  Hydroelectric  \\\n",
       "0  2019-01-01 00:00:00         6352        6527     1395    79           1383   \n",
       "1  2019-01-01 01:00:00         6116        5701     1393    96           1112   \n",
       "2  2019-01-01 02:00:00         5873        5676     1393   142           1030   \n",
       "3  2019-01-01 03:00:00         5682        5603     1397   191            972   \n",
       "4  2019-01-01 04:00:00         5557        5454     1393   159            960   \n",
       "\n",
       "   Oil and Gas  Coal  Solar  Biomass  \n",
       "0         1896  1744      0       30  \n",
       "1         1429  1641      0       30  \n",
       "2         1465  1616      0       30  \n",
       "3         1455  1558      0       30  \n",
       "4         1454  1458      0       30  "
      ]
     },
     "execution_count": 3,
     "metadata": {},
     "output_type": "execute_result"
    }
   ],
   "source": [
    "df = pd.read_csv(\"/kaggle/input/hourly-electricity-consumption-and-production/electricityConsumptionAndProductioction.csv\")\n",
    "\n",
    "df.head()"
   ]
  },
  {
   "cell_type": "markdown",
   "id": "02953fe1",
   "metadata": {
    "papermill": {
     "duration": 0.003618,
     "end_time": "2023-12-20T00:01:35.676720",
     "exception": false,
     "start_time": "2023-12-20T00:01:35.673102",
     "status": "completed"
    },
    "tags": []
   },
   "source": [
    "# EDA"
   ]
  },
  {
   "cell_type": "markdown",
   "id": "4edb00f5",
   "metadata": {
    "papermill": {
     "duration": 0.003281,
     "end_time": "2023-12-20T00:01:35.683513",
     "exception": false,
     "start_time": "2023-12-20T00:01:35.680232",
     "status": "completed"
    },
    "tags": []
   },
   "source": [
    "# Preparing the data"
   ]
  },
  {
   "cell_type": "markdown",
   "id": "e74f82dd",
   "metadata": {
    "papermill": {
     "duration": 0.003232,
     "end_time": "2023-12-20T00:01:35.690247",
     "exception": false,
     "start_time": "2023-12-20T00:01:35.687015",
     "status": "completed"
    },
    "tags": []
   },
   "source": [
    "# Creating the LSTM model"
   ]
  },
  {
   "cell_type": "markdown",
   "id": "b8039377",
   "metadata": {
    "papermill": {
     "duration": 0.003202,
     "end_time": "2023-12-20T00:01:35.696998",
     "exception": false,
     "start_time": "2023-12-20T00:01:35.693796",
     "status": "completed"
    },
    "tags": []
   },
   "source": [
    "# Training the model"
   ]
  },
  {
   "cell_type": "markdown",
   "id": "d29d7a57",
   "metadata": {
    "papermill": {
     "duration": 0.003137,
     "end_time": "2023-12-20T00:01:35.703537",
     "exception": false,
     "start_time": "2023-12-20T00:01:35.700400",
     "status": "completed"
    },
    "tags": []
   },
   "source": [
    "# Computing the general loss"
   ]
  },
  {
   "cell_type": "markdown",
   "id": "429283b7",
   "metadata": {
    "papermill": {
     "duration": 0.003117,
     "end_time": "2023-12-20T00:01:35.710066",
     "exception": false,
     "start_time": "2023-12-20T00:01:35.706949",
     "status": "completed"
    },
    "tags": []
   },
   "source": [
    "# Plotting the prediction vs. the real data"
   ]
  },
  {
   "cell_type": "markdown",
   "id": "58ae3458",
   "metadata": {
    "papermill": {
     "duration": 0.003071,
     "end_time": "2023-12-20T00:01:35.716572",
     "exception": false,
     "start_time": "2023-12-20T00:01:35.713501",
     "status": "completed"
    },
    "tags": []
   },
   "source": [
    "# Finis\n",
    "You have maded it to the finish, thank you. Please upvote if you liked this :)"
   ]
  }
 ],
 "metadata": {
  "kaggle": {
   "accelerator": "none",
   "dataSources": [
    {
     "datasetId": 3021996,
     "sourceId": 5196931,
     "sourceType": "datasetVersion"
    }
   ],
   "dockerImageVersionId": 30626,
   "isGpuEnabled": false,
   "isInternetEnabled": true,
   "language": "python",
   "sourceType": "notebook"
  },
  "kernelspec": {
   "display_name": "Python 3",
   "language": "python",
   "name": "python3"
  },
  "language_info": {
   "codemirror_mode": {
    "name": "ipython",
    "version": 3
   },
   "file_extension": ".py",
   "mimetype": "text/x-python",
   "name": "python",
   "nbconvert_exporter": "python",
   "pygments_lexer": "ipython3",
   "version": "3.10.12"
  },
  "papermill": {
   "default_parameters": {},
   "duration": 15.763309,
   "end_time": "2023-12-20T00:01:37.146711",
   "environment_variables": {},
   "exception": null,
   "input_path": "__notebook__.ipynb",
   "output_path": "__notebook__.ipynb",
   "parameters": {},
   "start_time": "2023-12-20T00:01:21.383402",
   "version": "2.4.0"
  }
 },
 "nbformat": 4,
 "nbformat_minor": 5
}
