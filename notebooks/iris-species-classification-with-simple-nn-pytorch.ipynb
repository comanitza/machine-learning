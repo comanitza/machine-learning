{
 "cells": [
  {
   "cell_type": "code",
   "execution_count": 1,
   "id": "5dedf95a",
   "metadata": {
    "_cell_guid": "b1076dfc-b9ad-4769-8c92-a6c4dae69d19",
    "_uuid": "8f2839f25d086af736a60e9eeb907d3b93b6e0e5",
    "execution": {
     "iopub.execute_input": "2024-02-05T22:35:05.423026Z",
     "iopub.status.busy": "2024-02-05T22:35:05.422562Z",
     "iopub.status.idle": "2024-02-05T22:35:06.426982Z",
     "shell.execute_reply": "2024-02-05T22:35:06.425860Z"
    },
    "papermill": {
     "duration": 1.012413,
     "end_time": "2024-02-05T22:35:06.429436",
     "exception": false,
     "start_time": "2024-02-05T22:35:05.417023",
     "status": "completed"
    },
    "tags": []
   },
   "outputs": [
    {
     "name": "stdout",
     "output_type": "stream",
     "text": [
      "/kaggle/input/iris/Iris.csv\n",
      "/kaggle/input/iris/database.sqlite\n"
     ]
    }
   ],
   "source": [
    "# This Python 3 environment comes with many helpful analytics libraries installed\n",
    "# It is defined by the kaggle/python Docker image: https://github.com/kaggle/docker-python\n",
    "# For example, here's several helpful packages to load\n",
    "\n",
    "import numpy as np # linear algebra\n",
    "import pandas as pd # data processing, CSV file I/O (e.g. pd.read_csv)\n",
    "\n",
    "# Input data files are available in the read-only \"../input/\" directory\n",
    "# For example, running this (by clicking run or pressing Shift+Enter) will list all files under the input directory\n",
    "\n",
    "import os\n",
    "for dirname, _, filenames in os.walk('/kaggle/input'):\n",
    "    for filename in filenames:\n",
    "        print(os.path.join(dirname, filename))\n",
    "\n",
    "# You can write up to 20GB to the current directory (/kaggle/working/) that gets preserved as output when you create a version using \"Save & Run All\" \n",
    "# You can also write temporary files to /kaggle/temp/, but they won't be saved outside of the current session"
   ]
  },
  {
   "cell_type": "markdown",
   "id": "0513ce78",
   "metadata": {
    "papermill": {
     "duration": 0.002816,
     "end_time": "2024-02-05T22:35:06.435815",
     "exception": false,
     "start_time": "2024-02-05T22:35:06.432999",
     "status": "completed"
    },
    "tags": []
   },
   "source": [
    "# Intro"
   ]
  },
  {
   "cell_type": "markdown",
   "id": "5d673d6a",
   "metadata": {
    "papermill": {
     "duration": 0.002623,
     "end_time": "2024-02-05T22:35:06.441395",
     "exception": false,
     "start_time": "2024-02-05T22:35:06.438772",
     "status": "completed"
    },
    "tags": []
   },
   "source": [
    "# Imports"
   ]
  },
  {
   "cell_type": "code",
   "execution_count": 2,
   "id": "c49dfcab",
   "metadata": {
    "execution": {
     "iopub.execute_input": "2024-02-05T22:35:06.449109Z",
     "iopub.status.busy": "2024-02-05T22:35:06.448604Z",
     "iopub.status.idle": "2024-02-05T22:35:11.599344Z",
     "shell.execute_reply": "2024-02-05T22:35:11.598114Z"
    },
    "papermill": {
     "duration": 5.15797,
     "end_time": "2024-02-05T22:35:11.602201",
     "exception": false,
     "start_time": "2024-02-05T22:35:06.444231",
     "status": "completed"
    },
    "tags": []
   },
   "outputs": [],
   "source": [
    "import torch\n",
    "import torch.nn as nn\n",
    "\n",
    "from torch.utils.data import DataLoader, TensorDataset\n",
    "from sklearn.model_selection import train_test_split\n",
    "from sklearn.preprocessing import LabelEncoder, StandardScaler\n",
    "\n",
    "import pandas as pd"
   ]
  },
  {
   "cell_type": "markdown",
   "id": "ff295c0f",
   "metadata": {
    "papermill": {
     "duration": 0.002626,
     "end_time": "2024-02-05T22:35:11.608104",
     "exception": false,
     "start_time": "2024-02-05T22:35:11.605478",
     "status": "completed"
    },
    "tags": []
   },
   "source": [
    "# Loading the data and minor EDA"
   ]
  },
  {
   "cell_type": "code",
   "execution_count": 3,
   "id": "6ec63bfb",
   "metadata": {
    "execution": {
     "iopub.execute_input": "2024-02-05T22:35:11.616260Z",
     "iopub.status.busy": "2024-02-05T22:35:11.615374Z",
     "iopub.status.idle": "2024-02-05T22:35:11.656426Z",
     "shell.execute_reply": "2024-02-05T22:35:11.655548Z"
    },
    "papermill": {
     "duration": 0.047881,
     "end_time": "2024-02-05T22:35:11.658816",
     "exception": false,
     "start_time": "2024-02-05T22:35:11.610935",
     "status": "completed"
    },
    "tags": []
   },
   "outputs": [
    {
     "data": {
      "text/html": [
       "<div>\n",
       "<style scoped>\n",
       "    .dataframe tbody tr th:only-of-type {\n",
       "        vertical-align: middle;\n",
       "    }\n",
       "\n",
       "    .dataframe tbody tr th {\n",
       "        vertical-align: top;\n",
       "    }\n",
       "\n",
       "    .dataframe thead th {\n",
       "        text-align: right;\n",
       "    }\n",
       "</style>\n",
       "<table border=\"1\" class=\"dataframe\">\n",
       "  <thead>\n",
       "    <tr style=\"text-align: right;\">\n",
       "      <th></th>\n",
       "      <th>Id</th>\n",
       "      <th>SepalLengthCm</th>\n",
       "      <th>SepalWidthCm</th>\n",
       "      <th>PetalLengthCm</th>\n",
       "      <th>PetalWidthCm</th>\n",
       "      <th>Species</th>\n",
       "    </tr>\n",
       "  </thead>\n",
       "  <tbody>\n",
       "    <tr>\n",
       "      <th>0</th>\n",
       "      <td>1</td>\n",
       "      <td>5.1</td>\n",
       "      <td>3.5</td>\n",
       "      <td>1.4</td>\n",
       "      <td>0.2</td>\n",
       "      <td>Iris-setosa</td>\n",
       "    </tr>\n",
       "    <tr>\n",
       "      <th>1</th>\n",
       "      <td>2</td>\n",
       "      <td>4.9</td>\n",
       "      <td>3.0</td>\n",
       "      <td>1.4</td>\n",
       "      <td>0.2</td>\n",
       "      <td>Iris-setosa</td>\n",
       "    </tr>\n",
       "    <tr>\n",
       "      <th>2</th>\n",
       "      <td>3</td>\n",
       "      <td>4.7</td>\n",
       "      <td>3.2</td>\n",
       "      <td>1.3</td>\n",
       "      <td>0.2</td>\n",
       "      <td>Iris-setosa</td>\n",
       "    </tr>\n",
       "    <tr>\n",
       "      <th>3</th>\n",
       "      <td>4</td>\n",
       "      <td>4.6</td>\n",
       "      <td>3.1</td>\n",
       "      <td>1.5</td>\n",
       "      <td>0.2</td>\n",
       "      <td>Iris-setosa</td>\n",
       "    </tr>\n",
       "    <tr>\n",
       "      <th>4</th>\n",
       "      <td>5</td>\n",
       "      <td>5.0</td>\n",
       "      <td>3.6</td>\n",
       "      <td>1.4</td>\n",
       "      <td>0.2</td>\n",
       "      <td>Iris-setosa</td>\n",
       "    </tr>\n",
       "  </tbody>\n",
       "</table>\n",
       "</div>"
      ],
      "text/plain": [
       "   Id  SepalLengthCm  SepalWidthCm  PetalLengthCm  PetalWidthCm      Species\n",
       "0   1            5.1           3.5            1.4           0.2  Iris-setosa\n",
       "1   2            4.9           3.0            1.4           0.2  Iris-setosa\n",
       "2   3            4.7           3.2            1.3           0.2  Iris-setosa\n",
       "3   4            4.6           3.1            1.5           0.2  Iris-setosa\n",
       "4   5            5.0           3.6            1.4           0.2  Iris-setosa"
      ]
     },
     "execution_count": 3,
     "metadata": {},
     "output_type": "execute_result"
    }
   ],
   "source": [
    "df = pd.read_csv(\"/kaggle/input/iris/Iris.csv\")\n",
    "\n",
    "df.head()"
   ]
  },
  {
   "cell_type": "markdown",
   "id": "53280af4",
   "metadata": {
    "papermill": {
     "duration": 0.003014,
     "end_time": "2024-02-05T22:35:11.665282",
     "exception": false,
     "start_time": "2024-02-05T22:35:11.662268",
     "status": "completed"
    },
    "tags": []
   },
   "source": [
    "# Defining the Model"
   ]
  },
  {
   "cell_type": "markdown",
   "id": "3b766765",
   "metadata": {
    "papermill": {
     "duration": 0.002989,
     "end_time": "2024-02-05T22:35:11.671495",
     "exception": false,
     "start_time": "2024-02-05T22:35:11.668506",
     "status": "completed"
    },
    "tags": []
   },
   "source": [
    "# Training the model"
   ]
  },
  {
   "cell_type": "markdown",
   "id": "f8e8e6b8",
   "metadata": {
    "papermill": {
     "duration": 0.002841,
     "end_time": "2024-02-05T22:35:11.677467",
     "exception": false,
     "start_time": "2024-02-05T22:35:11.674626",
     "status": "completed"
    },
    "tags": []
   },
   "source": [
    "# Making predictions"
   ]
  },
  {
   "cell_type": "markdown",
   "id": "1b9dfa82",
   "metadata": {
    "papermill": {
     "duration": 0.002768,
     "end_time": "2024-02-05T22:35:11.683281",
     "exception": false,
     "start_time": "2024-02-05T22:35:11.680513",
     "status": "completed"
    },
    "tags": []
   },
   "source": [
    "# Finish\n",
    "You have made it to the finish, thank you! Please upvote :)"
   ]
  }
 ],
 "metadata": {
  "kaggle": {
   "accelerator": "none",
   "dataSources": [
    {
     "datasetId": 19,
     "sourceId": 420,
     "sourceType": "datasetVersion"
    }
   ],
   "dockerImageVersionId": 30646,
   "isGpuEnabled": false,
   "isInternetEnabled": true,
   "language": "python",
   "sourceType": "notebook"
  },
  "kernelspec": {
   "display_name": "Python 3",
   "language": "python",
   "name": "python3"
  },
  "language_info": {
   "codemirror_mode": {
    "name": "ipython",
    "version": 3
   },
   "file_extension": ".py",
   "mimetype": "text/x-python",
   "name": "python",
   "nbconvert_exporter": "python",
   "pygments_lexer": "ipython3",
   "version": "3.10.13"
  },
  "papermill": {
   "default_parameters": {},
   "duration": 10.755605,
   "end_time": "2024-02-05T22:35:12.909838",
   "environment_variables": {},
   "exception": null,
   "input_path": "__notebook__.ipynb",
   "output_path": "__notebook__.ipynb",
   "parameters": {},
   "start_time": "2024-02-05T22:35:02.154233",
   "version": "2.5.0"
  }
 },
 "nbformat": 4,
 "nbformat_minor": 5
}
