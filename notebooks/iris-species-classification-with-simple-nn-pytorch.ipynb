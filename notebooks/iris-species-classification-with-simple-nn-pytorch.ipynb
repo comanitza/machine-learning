{
 "cells": [
  {
   "cell_type": "code",
   "execution_count": 1,
   "id": "395ca85f",
   "metadata": {
    "_cell_guid": "b1076dfc-b9ad-4769-8c92-a6c4dae69d19",
    "_uuid": "8f2839f25d086af736a60e9eeb907d3b93b6e0e5",
    "execution": {
     "iopub.execute_input": "2024-02-06T23:09:41.485089Z",
     "iopub.status.busy": "2024-02-06T23:09:41.484580Z",
     "iopub.status.idle": "2024-02-06T23:09:42.564771Z",
     "shell.execute_reply": "2024-02-06T23:09:42.563301Z"
    },
    "papermill": {
     "duration": 1.092554,
     "end_time": "2024-02-06T23:09:42.567975",
     "exception": false,
     "start_time": "2024-02-06T23:09:41.475421",
     "status": "completed"
    },
    "tags": []
   },
   "outputs": [
    {
     "name": "stdout",
     "output_type": "stream",
     "text": [
      "/kaggle/input/iris/Iris.csv\n",
      "/kaggle/input/iris/database.sqlite\n"
     ]
    }
   ],
   "source": [
    "# This Python 3 environment comes with many helpful analytics libraries installed\n",
    "# It is defined by the kaggle/python Docker image: https://github.com/kaggle/docker-python\n",
    "# For example, here's several helpful packages to load\n",
    "\n",
    "import numpy as np # linear algebra\n",
    "import pandas as pd # data processing, CSV file I/O (e.g. pd.read_csv)\n",
    "\n",
    "# Input data files are available in the read-only \"../input/\" directory\n",
    "# For example, running this (by clicking run or pressing Shift+Enter) will list all files under the input directory\n",
    "\n",
    "import os\n",
    "for dirname, _, filenames in os.walk('/kaggle/input'):\n",
    "    for filename in filenames:\n",
    "        print(os.path.join(dirname, filename))\n",
    "\n",
    "# You can write up to 20GB to the current directory (/kaggle/working/) that gets preserved as output when you create a version using \"Save & Run All\" \n",
    "# You can also write temporary files to /kaggle/temp/, but they won't be saved outside of the current session"
   ]
  },
  {
   "cell_type": "markdown",
   "id": "53dc5de6",
   "metadata": {
    "papermill": {
     "duration": 0.006219,
     "end_time": "2024-02-06T23:09:42.581446",
     "exception": false,
     "start_time": "2024-02-06T23:09:42.575227",
     "status": "completed"
    },
    "tags": []
   },
   "source": [
    "# Intro"
   ]
  },
  {
   "cell_type": "markdown",
   "id": "e06c5112",
   "metadata": {
    "papermill": {
     "duration": 0.006218,
     "end_time": "2024-02-06T23:09:42.594189",
     "exception": false,
     "start_time": "2024-02-06T23:09:42.587971",
     "status": "completed"
    },
    "tags": []
   },
   "source": [
    "# Imports"
   ]
  },
  {
   "cell_type": "code",
   "execution_count": 2,
   "id": "1541b46d",
   "metadata": {
    "execution": {
     "iopub.execute_input": "2024-02-06T23:09:42.609248Z",
     "iopub.status.busy": "2024-02-06T23:09:42.608708Z",
     "iopub.status.idle": "2024-02-06T23:09:48.173573Z",
     "shell.execute_reply": "2024-02-06T23:09:48.172189Z"
    },
    "papermill": {
     "duration": 5.576056,
     "end_time": "2024-02-06T23:09:48.176662",
     "exception": false,
     "start_time": "2024-02-06T23:09:42.600606",
     "status": "completed"
    },
    "tags": []
   },
   "outputs": [],
   "source": [
    "import torch\n",
    "import torch.nn as nn\n",
    "\n",
    "from torch.utils.data import DataLoader, TensorDataset\n",
    "from sklearn.model_selection import train_test_split\n",
    "from sklearn.preprocessing import LabelEncoder, StandardScaler\n",
    "\n",
    "import pandas as pd"
   ]
  },
  {
   "cell_type": "markdown",
   "id": "87affd5f",
   "metadata": {
    "papermill": {
     "duration": 0.007503,
     "end_time": "2024-02-06T23:09:48.191856",
     "exception": false,
     "start_time": "2024-02-06T23:09:48.184353",
     "status": "completed"
    },
    "tags": []
   },
   "source": [
    "# Loading the data and minor EDA"
   ]
  },
  {
   "cell_type": "code",
   "execution_count": 3,
   "id": "ff424bf0",
   "metadata": {
    "execution": {
     "iopub.execute_input": "2024-02-06T23:09:48.208205Z",
     "iopub.status.busy": "2024-02-06T23:09:48.207345Z",
     "iopub.status.idle": "2024-02-06T23:09:48.249758Z",
     "shell.execute_reply": "2024-02-06T23:09:48.247928Z"
    },
    "papermill": {
     "duration": 0.05503,
     "end_time": "2024-02-06T23:09:48.254028",
     "exception": false,
     "start_time": "2024-02-06T23:09:48.198998",
     "status": "completed"
    },
    "tags": []
   },
   "outputs": [
    {
     "data": {
      "text/html": [
       "<div>\n",
       "<style scoped>\n",
       "    .dataframe tbody tr th:only-of-type {\n",
       "        vertical-align: middle;\n",
       "    }\n",
       "\n",
       "    .dataframe tbody tr th {\n",
       "        vertical-align: top;\n",
       "    }\n",
       "\n",
       "    .dataframe thead th {\n",
       "        text-align: right;\n",
       "    }\n",
       "</style>\n",
       "<table border=\"1\" class=\"dataframe\">\n",
       "  <thead>\n",
       "    <tr style=\"text-align: right;\">\n",
       "      <th></th>\n",
       "      <th>Id</th>\n",
       "      <th>SepalLengthCm</th>\n",
       "      <th>SepalWidthCm</th>\n",
       "      <th>PetalLengthCm</th>\n",
       "      <th>PetalWidthCm</th>\n",
       "      <th>Species</th>\n",
       "    </tr>\n",
       "  </thead>\n",
       "  <tbody>\n",
       "    <tr>\n",
       "      <th>0</th>\n",
       "      <td>1</td>\n",
       "      <td>5.1</td>\n",
       "      <td>3.5</td>\n",
       "      <td>1.4</td>\n",
       "      <td>0.2</td>\n",
       "      <td>Iris-setosa</td>\n",
       "    </tr>\n",
       "    <tr>\n",
       "      <th>1</th>\n",
       "      <td>2</td>\n",
       "      <td>4.9</td>\n",
       "      <td>3.0</td>\n",
       "      <td>1.4</td>\n",
       "      <td>0.2</td>\n",
       "      <td>Iris-setosa</td>\n",
       "    </tr>\n",
       "    <tr>\n",
       "      <th>2</th>\n",
       "      <td>3</td>\n",
       "      <td>4.7</td>\n",
       "      <td>3.2</td>\n",
       "      <td>1.3</td>\n",
       "      <td>0.2</td>\n",
       "      <td>Iris-setosa</td>\n",
       "    </tr>\n",
       "    <tr>\n",
       "      <th>3</th>\n",
       "      <td>4</td>\n",
       "      <td>4.6</td>\n",
       "      <td>3.1</td>\n",
       "      <td>1.5</td>\n",
       "      <td>0.2</td>\n",
       "      <td>Iris-setosa</td>\n",
       "    </tr>\n",
       "    <tr>\n",
       "      <th>4</th>\n",
       "      <td>5</td>\n",
       "      <td>5.0</td>\n",
       "      <td>3.6</td>\n",
       "      <td>1.4</td>\n",
       "      <td>0.2</td>\n",
       "      <td>Iris-setosa</td>\n",
       "    </tr>\n",
       "  </tbody>\n",
       "</table>\n",
       "</div>"
      ],
      "text/plain": [
       "   Id  SepalLengthCm  SepalWidthCm  PetalLengthCm  PetalWidthCm      Species\n",
       "0   1            5.1           3.5            1.4           0.2  Iris-setosa\n",
       "1   2            4.9           3.0            1.4           0.2  Iris-setosa\n",
       "2   3            4.7           3.2            1.3           0.2  Iris-setosa\n",
       "3   4            4.6           3.1            1.5           0.2  Iris-setosa\n",
       "4   5            5.0           3.6            1.4           0.2  Iris-setosa"
      ]
     },
     "execution_count": 3,
     "metadata": {},
     "output_type": "execute_result"
    }
   ],
   "source": [
    "df = pd.read_csv(\"/kaggle/input/iris/Iris.csv\")\n",
    "\n",
    "df.head()"
   ]
  },
  {
   "cell_type": "code",
   "execution_count": 4,
   "id": "7d70bb4e",
   "metadata": {
    "execution": {
     "iopub.execute_input": "2024-02-06T23:09:48.273156Z",
     "iopub.status.busy": "2024-02-06T23:09:48.272643Z",
     "iopub.status.idle": "2024-02-06T23:09:48.284632Z",
     "shell.execute_reply": "2024-02-06T23:09:48.283447Z"
    },
    "papermill": {
     "duration": 0.023479,
     "end_time": "2024-02-06T23:09:48.287273",
     "exception": false,
     "start_time": "2024-02-06T23:09:48.263794",
     "status": "completed"
    },
    "tags": []
   },
   "outputs": [
    {
     "name": "stdout",
     "output_type": "stream",
     "text": [
      "shape of the dataset: (150, 6)\n",
      "distinct species:  ['Iris-setosa' 'Iris-versicolor' 'Iris-virginica']\n"
     ]
    }
   ],
   "source": [
    "#\n",
    "print(f\"shape of the dataset: {df.shape}\")\n",
    "\n",
    "#\n",
    "print(\"distinct species: \", df[\"Species\"].unique())"
   ]
  },
  {
   "cell_type": "code",
   "execution_count": 5,
   "id": "e458ef6d",
   "metadata": {
    "execution": {
     "iopub.execute_input": "2024-02-06T23:09:48.304026Z",
     "iopub.status.busy": "2024-02-06T23:09:48.303132Z",
     "iopub.status.idle": "2024-02-06T23:09:48.319480Z",
     "shell.execute_reply": "2024-02-06T23:09:48.318525Z"
    },
    "papermill": {
     "duration": 0.027732,
     "end_time": "2024-02-06T23:09:48.322053",
     "exception": false,
     "start_time": "2024-02-06T23:09:48.294321",
     "status": "completed"
    },
    "tags": []
   },
   "outputs": [],
   "source": [
    "labelEncoder = LabelEncoder()\n",
    "\n",
    "X = df[[\"SepalLengthCm\",  \"SepalWidthCm\",  \"PetalLengthCm\", \"PetalWidthCm\"]]\n",
    "y = labelEncoder.fit_transform(df[\"Species\"])"
   ]
  },
  {
   "cell_type": "code",
   "execution_count": 6,
   "id": "fd9baed6",
   "metadata": {
    "execution": {
     "iopub.execute_input": "2024-02-06T23:09:48.341923Z",
     "iopub.status.busy": "2024-02-06T23:09:48.340998Z",
     "iopub.status.idle": "2024-02-06T23:09:48.356506Z",
     "shell.execute_reply": "2024-02-06T23:09:48.354879Z"
    },
    "papermill": {
     "duration": 0.030648,
     "end_time": "2024-02-06T23:09:48.360733",
     "exception": false,
     "start_time": "2024-02-06T23:09:48.330085",
     "status": "completed"
    },
    "tags": []
   },
   "outputs": [
    {
     "data": {
      "text/plain": [
       "array(['Iris-setosa', 'Iris-versicolor', 'Iris-virginica'], dtype=object)"
      ]
     },
     "execution_count": 6,
     "metadata": {},
     "output_type": "execute_result"
    }
   ],
   "source": [
    "scaler = StandardScaler()\n",
    "X = scaler.fit_transform(X)\n",
    "\n",
    "labelEncoder.classes_"
   ]
  },
  {
   "cell_type": "code",
   "execution_count": 7,
   "id": "bfc45623",
   "metadata": {
    "execution": {
     "iopub.execute_input": "2024-02-06T23:09:48.382509Z",
     "iopub.status.busy": "2024-02-06T23:09:48.381667Z",
     "iopub.status.idle": "2024-02-06T23:09:48.417462Z",
     "shell.execute_reply": "2024-02-06T23:09:48.416484Z"
    },
    "papermill": {
     "duration": 0.05009,
     "end_time": "2024-02-06T23:09:48.421321",
     "exception": false,
     "start_time": "2024-02-06T23:09:48.371231",
     "status": "completed"
    },
    "tags": []
   },
   "outputs": [],
   "source": [
    "X_train, X_test, y_train, y_test = train_test_split(X, y, test_size=0.2, random_state=42)\n",
    "\n",
    "X_train = torch.tensor(X_train, dtype=torch.float32)\n",
    "y_train = torch.tensor(y_train, dtype=torch.long)\n",
    "X_test = torch.tensor(X_test, dtype=torch.float32)\n",
    "y_test = torch.tensor(y_test, dtype=torch.long)\n"
   ]
  },
  {
   "cell_type": "markdown",
   "id": "5eaef3ff",
   "metadata": {
    "papermill": {
     "duration": 0.007248,
     "end_time": "2024-02-06T23:09:48.436640",
     "exception": false,
     "start_time": "2024-02-06T23:09:48.429392",
     "status": "completed"
    },
    "tags": []
   },
   "source": [
    "# Defining the Model"
   ]
  },
  {
   "cell_type": "code",
   "execution_count": 8,
   "id": "28673a03",
   "metadata": {
    "execution": {
     "iopub.execute_input": "2024-02-06T23:09:48.453768Z",
     "iopub.status.busy": "2024-02-06T23:09:48.453331Z",
     "iopub.status.idle": "2024-02-06T23:09:48.461584Z",
     "shell.execute_reply": "2024-02-06T23:09:48.460219Z"
    },
    "papermill": {
     "duration": 0.020269,
     "end_time": "2024-02-06T23:09:48.464470",
     "exception": false,
     "start_time": "2024-02-06T23:09:48.444201",
     "status": "completed"
    },
    "tags": []
   },
   "outputs": [],
   "source": [
    "class IrisNNModel(nn.Module):\n",
    "    def __init__(self):\n",
    "        super(IrisNNModel, self).__init__()\n",
    "\n",
    "        self.net = nn.Sequential(\n",
    "            nn.Linear(in_features=4, out_features=40),\n",
    "            nn.ReLU(),\n",
    "            nn.Linear(in_features=40, out_features=20),\n",
    "            nn.ReLU(),\n",
    "            nn.Linear(in_features=20, out_features=3),\n",
    "            nn.LogSoftmax(dim=1)\n",
    "        )\n",
    "\n",
    "    def forward(self, X):\n",
    "        yHat = self.net(X)\n",
    "\n",
    "        return yHat"
   ]
  },
  {
   "cell_type": "markdown",
   "id": "c62801f4",
   "metadata": {
    "papermill": {
     "duration": 0.007458,
     "end_time": "2024-02-06T23:09:48.479239",
     "exception": false,
     "start_time": "2024-02-06T23:09:48.471781",
     "status": "completed"
    },
    "tags": []
   },
   "source": [
    "# Training the model"
   ]
  },
  {
   "cell_type": "code",
   "execution_count": 9,
   "id": "d7312624",
   "metadata": {
    "execution": {
     "iopub.execute_input": "2024-02-06T23:09:48.495926Z",
     "iopub.status.busy": "2024-02-06T23:09:48.495411Z",
     "iopub.status.idle": "2024-02-06T23:09:51.943204Z",
     "shell.execute_reply": "2024-02-06T23:09:51.941961Z"
    },
    "papermill": {
     "duration": 3.460423,
     "end_time": "2024-02-06T23:09:51.946806",
     "exception": false,
     "start_time": "2024-02-06T23:09:48.486383",
     "status": "completed"
    },
    "tags": []
   },
   "outputs": [
    {
     "name": "stdout",
     "output_type": "stream",
     "text": [
      "120 120\n"
     ]
    }
   ],
   "source": [
    "model = IrisNNModel()\n",
    "\n",
    "optimizer = torch.optim.Adam(model.parameters(), lr=0.001)\n",
    "lossFunction = nn.CrossEntropyLoss()\n",
    "\n",
    "\n",
    "BATCH_SIZE = 16\n",
    "\n",
    "print(len(X_train), len(y_train))\n",
    "\n",
    "datasetTrain = TensorDataset(X_train, y_train)\n",
    "dataloaderTrain = DataLoader(datasetTrain, batch_size=BATCH_SIZE, shuffle=True)\n",
    "\n",
    "model.train()\n",
    "\n",
    "BATCH_SIZE = 16\n",
    "\n",
    "datasetTrain = TensorDataset(X_train, y_train)\n",
    "dataloaderTrain = DataLoader(datasetTrain, batch_size=BATCH_SIZE, shuffle=True)"
   ]
  },
  {
   "cell_type": "code",
   "execution_count": 10,
   "id": "14bf3862",
   "metadata": {
    "execution": {
     "iopub.execute_input": "2024-02-06T23:09:51.964127Z",
     "iopub.status.busy": "2024-02-06T23:09:51.963453Z",
     "iopub.status.idle": "2024-02-06T23:10:04.587056Z",
     "shell.execute_reply": "2024-02-06T23:10:04.585690Z"
    },
    "papermill": {
     "duration": 12.635543,
     "end_time": "2024-02-06T23:10:04.589990",
     "exception": false,
     "start_time": "2024-02-06T23:09:51.954447",
     "status": "completed"
    },
    "tags": []
   },
   "outputs": [
    {
     "name": "stdout",
     "output_type": "stream",
     "text": [
      "training epoch 0, batch 0, loss 1.05955851\n",
      "training epoch 50, batch 0, loss 0.11284178\n",
      "training epoch 100, batch 0, loss 0.04779354\n",
      "training epoch 150, batch 0, loss 0.00894730\n",
      "training epoch 200, batch 0, loss 0.01407059\n",
      "training epoch 250, batch 0, loss 0.08125875\n",
      "training epoch 300, batch 0, loss 0.03312214\n",
      "training epoch 350, batch 0, loss 0.03077167\n",
      "training epoch 400, batch 0, loss 0.00961729\n",
      "training epoch 450, batch 0, loss 0.00199906\n",
      "training epoch 500, batch 0, loss 0.00051923\n",
      "training epoch 550, batch 0, loss 0.00587143\n",
      "training epoch 600, batch 0, loss 0.00806707\n",
      "training epoch 650, batch 0, loss 0.00122576\n",
      "training epoch 700, batch 0, loss 0.01730327\n",
      "training epoch 750, batch 0, loss 0.00011014\n",
      "training epoch 800, batch 0, loss 0.00005399\n",
      "training epoch 850, batch 0, loss 0.00628706\n",
      "training epoch 900, batch 0, loss 0.00446975\n",
      "training epoch 950, batch 0, loss 0.00004107\n"
     ]
    }
   ],
   "source": [
    "for epoch in range(1000):\n",
    "    for i, (X_batch, y_batch) in enumerate(dataloaderTrain):\n",
    "        # with torch.no_grad():\n",
    "\n",
    "        yHatPred = model.forward(X_batch)\n",
    "\n",
    "        # print(yHatPred.float().dtype, y_batch.dtype)\n",
    "\n",
    "        loss = lossFunction(yHatPred, y_batch)\n",
    "\n",
    "\n",
    "        optimizer.zero_grad()\n",
    "        loss.backward()\n",
    "        optimizer.step()\n",
    "        if i == 0 and epoch % 50 == 0:\n",
    "            print(f\"training epoch {epoch}, batch {i}, loss {loss.item():.8f}\")"
   ]
  },
  {
   "cell_type": "markdown",
   "id": "869c1ebc",
   "metadata": {
    "papermill": {
     "duration": 0.009008,
     "end_time": "2024-02-06T23:10:04.610339",
     "exception": false,
     "start_time": "2024-02-06T23:10:04.601331",
     "status": "completed"
    },
    "tags": []
   },
   "source": [
    "# Making predictions"
   ]
  },
  {
   "cell_type": "code",
   "execution_count": 11,
   "id": "7e6fdffe",
   "metadata": {
    "execution": {
     "iopub.execute_input": "2024-02-06T23:10:04.630246Z",
     "iopub.status.busy": "2024-02-06T23:10:04.629798Z",
     "iopub.status.idle": "2024-02-06T23:10:04.635528Z",
     "shell.execute_reply": "2024-02-06T23:10:04.634322Z"
    },
    "papermill": {
     "duration": 0.018706,
     "end_time": "2024-02-06T23:10:04.638070",
     "exception": false,
     "start_time": "2024-02-06T23:10:04.619364",
     "status": "completed"
    },
    "tags": []
   },
   "outputs": [],
   "source": [
    "model.eval()\n",
    "\n",
    "datasetTest = TensorDataset(X_test, y_test)\n",
    "dataloaderTest = DataLoader(datasetTest, batch_size=BATCH_SIZE)"
   ]
  },
  {
   "cell_type": "code",
   "execution_count": 12,
   "id": "5285cfba",
   "metadata": {
    "execution": {
     "iopub.execute_input": "2024-02-06T23:10:04.658203Z",
     "iopub.status.busy": "2024-02-06T23:10:04.657819Z",
     "iopub.status.idle": "2024-02-06T23:10:04.674020Z",
     "shell.execute_reply": "2024-02-06T23:10:04.672660Z"
    },
    "papermill": {
     "duration": 0.029783,
     "end_time": "2024-02-06T23:10:04.676886",
     "exception": false,
     "start_time": "2024-02-06T23:10:04.647103",
     "status": "completed"
    },
    "tags": []
   },
   "outputs": [
    {
     "name": "stdout",
     "output_type": "stream",
     "text": [
      "### prediction for batch 0 loss: 0.0044\n",
      "1 1\n",
      "0 0\n",
      "2 2\n",
      "1 1\n",
      "1 1\n",
      "0 0\n",
      "1 1\n",
      "2 2\n",
      "1 1\n",
      "1 1\n",
      "2 2\n",
      "0 0\n",
      "0 0\n",
      "0 0\n",
      "0 0\n",
      "1 1\n",
      "### prediction for batch 1 loss: 0.0106\n",
      "2 2\n",
      "1 1\n",
      "1 1\n",
      "2 2\n",
      "0 0\n",
      "2 2\n",
      "0 0\n",
      "2 2\n",
      "2 2\n",
      "2 2\n",
      "2 2\n",
      "2 2\n",
      "0 0\n",
      "0 0\n"
     ]
    }
   ],
   "source": [
    "with torch.no_grad():\n",
    "    for i, (X_batch, y_batch) in enumerate(dataloaderTest):\n",
    "\n",
    "        yHat = model.forward(X_batch)\n",
    "        loss = lossFunction(yHat, y_batch)\n",
    "\n",
    "        print(f\"### prediction for batch {i} loss: {loss.item():.4f}\")\n",
    "\n",
    "        for i in range(yHat.shape[0]):\n",
    "            print(y_batch[i].item(), torch.argmax(yHat[i], dim=0).item())"
   ]
  },
  {
   "cell_type": "markdown",
   "id": "73b8d67d",
   "metadata": {
    "papermill": {
     "duration": 0.008901,
     "end_time": "2024-02-06T23:10:04.695112",
     "exception": false,
     "start_time": "2024-02-06T23:10:04.686211",
     "status": "completed"
    },
    "tags": []
   },
   "source": [
    "# Finish\n",
    "You have made it to the finish, thank you! Please upvote :)"
   ]
  }
 ],
 "metadata": {
  "kaggle": {
   "accelerator": "none",
   "dataSources": [
    {
     "datasetId": 19,
     "sourceId": 420,
     "sourceType": "datasetVersion"
    }
   ],
   "dockerImageVersionId": 30646,
   "isGpuEnabled": false,
   "isInternetEnabled": true,
   "language": "python",
   "sourceType": "notebook"
  },
  "kernelspec": {
   "display_name": "Python 3",
   "language": "python",
   "name": "python3"
  },
  "language_info": {
   "codemirror_mode": {
    "name": "ipython",
    "version": 3
   },
   "file_extension": ".py",
   "mimetype": "text/x-python",
   "name": "python",
   "nbconvert_exporter": "python",
   "pygments_lexer": "ipython3",
   "version": "3.10.13"
  },
  "papermill": {
   "default_parameters": {},
   "duration": 27.994441,
   "end_time": "2024-02-06T23:10:06.229826",
   "environment_variables": {},
   "exception": null,
   "input_path": "__notebook__.ipynb",
   "output_path": "__notebook__.ipynb",
   "parameters": {},
   "start_time": "2024-02-06T23:09:38.235385",
   "version": "2.5.0"
  }
 },
 "nbformat": 4,
 "nbformat_minor": 5
}
