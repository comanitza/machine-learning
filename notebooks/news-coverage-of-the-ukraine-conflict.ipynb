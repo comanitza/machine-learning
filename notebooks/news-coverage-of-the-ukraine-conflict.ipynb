{
 "cells": [
  {
   "cell_type": "code",
   "execution_count": 1,
   "id": "0b5019f7",
   "metadata": {
    "_cell_guid": "b1076dfc-b9ad-4769-8c92-a6c4dae69d19",
    "_uuid": "8f2839f25d086af736a60e9eeb907d3b93b6e0e5",
    "execution": {
     "iopub.execute_input": "2024-01-01T22:12:32.188252Z",
     "iopub.status.busy": "2024-01-01T22:12:32.187859Z",
     "iopub.status.idle": "2024-01-01T22:12:32.210225Z",
     "shell.execute_reply": "2024-01-01T22:12:32.209080Z"
    },
    "papermill": {
     "duration": 0.035608,
     "end_time": "2024-01-01T22:12:32.213077",
     "exception": false,
     "start_time": "2024-01-01T22:12:32.177469",
     "status": "completed"
    },
    "tags": []
   },
   "outputs": [
    {
     "name": "stdout",
     "output_type": "stream",
     "text": [
      "/kaggle/input/bbc-news/bbc_news.csv\n"
     ]
    }
   ],
   "source": [
    "# This Python 3 environment comes with many helpful analytics libraries installed\n",
    "# It is defined by the kaggle/python Docker image: https://github.com/kaggle/docker-python\n",
    "# For example, here's several helpful packages to load\n",
    "\n",
    "# Input data files are available in the read-only \"../input/\" directory\n",
    "# For example, running this (by clicking run or pressing Shift+Enter) will list all files under the input directory\n",
    "\n",
    "import os\n",
    "for dirname, _, filenames in os.walk('/kaggle/input'):\n",
    "    for filename in filenames:\n",
    "        print(os.path.join(dirname, filename))\n",
    "\n",
    "# You can write up to 20GB to the current directory (/kaggle/working/) that gets preserved as output when you create a version using \"Save & Run All\" \n",
    "# You can also write temporary files to /kaggle/temp/, but they won't be saved outside of the current session"
   ]
  },
  {
   "cell_type": "markdown",
   "id": "7c2adc73",
   "metadata": {
    "papermill": {
     "duration": 0.006823,
     "end_time": "2024-01-01T22:12:32.227175",
     "exception": false,
     "start_time": "2024-01-01T22:12:32.220352",
     "status": "completed"
    },
    "tags": []
   },
   "source": [
    "# Intro"
   ]
  },
  {
   "cell_type": "markdown",
   "id": "e215c932",
   "metadata": {
    "papermill": {
     "duration": 0.006589,
     "end_time": "2024-01-01T22:12:32.240853",
     "exception": false,
     "start_time": "2024-01-01T22:12:32.234264",
     "status": "completed"
    },
    "tags": []
   },
   "source": [
    "# Imports and minor setup"
   ]
  },
  {
   "cell_type": "code",
   "execution_count": 2,
   "id": "3b9fc6c8",
   "metadata": {
    "execution": {
     "iopub.execute_input": "2024-01-01T22:12:32.256207Z",
     "iopub.status.busy": "2024-01-01T22:12:32.255828Z",
     "iopub.status.idle": "2024-01-01T22:12:52.518741Z",
     "shell.execute_reply": "2024-01-01T22:12:52.517738Z"
    },
    "papermill": {
     "duration": 20.273897,
     "end_time": "2024-01-01T22:12:52.521606",
     "exception": false,
     "start_time": "2024-01-01T22:12:32.247709",
     "status": "completed"
    },
    "tags": []
   },
   "outputs": [],
   "source": [
    "import pandas as pd\n",
    "\n",
    "from transformers import pipeline\n",
    "from transformers import AutoTokenizer, AutoModelForSequenceClassification\n",
    "\n",
    "import matplotlib.pyplot as plt\n",
    "\n",
    "pd.set_option('display.max_columns', None)\n",
    "pd.set_option('expand_frame_repr', False)"
   ]
  },
  {
   "cell_type": "markdown",
   "id": "01f34f2e",
   "metadata": {
    "papermill": {
     "duration": 0.006771,
     "end_time": "2024-01-01T22:12:52.535731",
     "exception": false,
     "start_time": "2024-01-01T22:12:52.528960",
     "status": "completed"
    },
    "tags": []
   },
   "source": [
    "# Loading the data and quick EDA"
   ]
  },
  {
   "cell_type": "code",
   "execution_count": 3,
   "id": "18ed6226",
   "metadata": {
    "execution": {
     "iopub.execute_input": "2024-01-01T22:12:52.552074Z",
     "iopub.status.busy": "2024-01-01T22:12:52.551281Z",
     "iopub.status.idle": "2024-01-01T22:12:52.881763Z",
     "shell.execute_reply": "2024-01-01T22:12:52.878973Z"
    },
    "papermill": {
     "duration": 0.342229,
     "end_time": "2024-01-01T22:12:52.884939",
     "exception": false,
     "start_time": "2024-01-01T22:12:52.542710",
     "status": "completed"
    },
    "tags": []
   },
   "outputs": [
    {
     "name": "stdout",
     "output_type": "stream",
     "text": [
      "Index(['title', 'pubDate', 'guid', 'link', 'description'], dtype='object')\n",
      "(27329, 3)\n"
     ]
    },
    {
     "data": {
      "text/plain": [
       "<bound method NDFrame.head of                                                    title                        pubDate                                        description\n",
       "0      Ukraine: Angry Zelensky vows to punish Russian...  Mon, 07 Mar 2022 08:01:56 GMT  The Ukrainian president says the country will ...\n",
       "1      War in Ukraine: Taking cover in a town under a...  Sun, 06 Mar 2022 22:49:58 GMT  Jeremy Bowen was on the frontline in Irpin, as...\n",
       "2             Ukraine war 'catastrophic for global food'  Mon, 07 Mar 2022 00:14:42 GMT  One of the world's biggest fertiliser firms sa...\n",
       "3      Manchester Arena bombing: Saffie Roussos's par...  Mon, 07 Mar 2022 00:05:40 GMT  The parents of the Manchester Arena bombing's ...\n",
       "4      Ukraine conflict: Oil price soars to highest l...  Mon, 07 Mar 2022 08:15:53 GMT  Consumers are feeling the impact of higher ene...\n",
       "...                                                  ...                            ...                                                ...\n",
       "27324  Premiership: Leicester 35-22 Bath - Tigers end...  Sun, 31 Dec 2023 17:32:12 GMT  Leicester end 2023 by beating a much-changed B...\n",
       "27325  January transfer window: Who could be on the m...  Sun, 31 Dec 2023 22:00:53 GMT  The January transfer window is open and severa...\n",
       "27326  Match of the Day 2 analysis: What's wrong at A...  Sun, 31 Dec 2023 23:32:11 GMT  Match of the Day 2 pundits Nedum Onuoha and Pa...\n",
       "27327  Match of the Day 2 Good 2 Bad: Mauricio Pochet...  Sun, 31 Dec 2023 23:31:32 GMT  Watch 2 Good 2 Bad from Match of the Day 2, fe...\n",
       "27328  United Cup: Katie Boulter beats Jessica Pegula...  Sun, 31 Dec 2023 09:54:11 GMT  GB's Katie Boulter records the best win of her...\n",
       "\n",
       "[27329 rows x 3 columns]>"
      ]
     },
     "execution_count": 3,
     "metadata": {},
     "output_type": "execute_result"
    }
   ],
   "source": [
    "df: pd.DataFrame = pd.read_csv(\"/kaggle/input/bbc-news/bbc_news.csv\")\n",
    "print(df.columns)\n",
    "# drop the columns we are not interested in\n",
    "df: pd.DataFrame = df.drop([\"guid\", \"link\"], axis = 1)\n",
    "\n",
    "# print the shape of the dataframe and the head\n",
    "print(df.shape)\n",
    "df.head"
   ]
  },
  {
   "cell_type": "markdown",
   "id": "941c9aae",
   "metadata": {
    "papermill": {
     "duration": 0.00697,
     "end_time": "2024-01-01T22:12:52.899387",
     "exception": false,
     "start_time": "2024-01-01T22:12:52.892417",
     "status": "completed"
    },
    "tags": []
   },
   "source": [
    "# Preparing the Hugging Face transformers"
   ]
  },
  {
   "cell_type": "code",
   "execution_count": 4,
   "id": "7cf59eaf",
   "metadata": {
    "execution": {
     "iopub.execute_input": "2024-01-01T22:12:52.916124Z",
     "iopub.status.busy": "2024-01-01T22:12:52.915666Z",
     "iopub.status.idle": "2024-01-01T22:12:59.190363Z",
     "shell.execute_reply": "2024-01-01T22:12:59.189140Z"
    },
    "papermill": {
     "duration": 6.286596,
     "end_time": "2024-01-01T22:12:59.193393",
     "exception": false,
     "start_time": "2024-01-01T22:12:52.906797",
     "status": "completed"
    },
    "tags": []
   },
   "outputs": [
    {
     "data": {
      "application/vnd.jupyter.widget-view+json": {
       "model_id": "416f84f130e64c73bf904f5bc79646d6",
       "version_major": 2,
       "version_minor": 0
      },
      "text/plain": [
       "tokenizer_config.json:   0%|          | 0.00/48.0 [00:00<?, ?B/s]"
      ]
     },
     "metadata": {},
     "output_type": "display_data"
    },
    {
     "data": {
      "application/vnd.jupyter.widget-view+json": {
       "model_id": "63d0794b25644c9e91b735f1a85162b9",
       "version_major": 2,
       "version_minor": 0
      },
      "text/plain": [
       "config.json:   0%|          | 0.00/629 [00:00<?, ?B/s]"
      ]
     },
     "metadata": {},
     "output_type": "display_data"
    },
    {
     "data": {
      "application/vnd.jupyter.widget-view+json": {
       "model_id": "c30d2091ebfa496b85a0ae1841ccfa05",
       "version_major": 2,
       "version_minor": 0
      },
      "text/plain": [
       "vocab.txt:   0%|          | 0.00/232k [00:00<?, ?B/s]"
      ]
     },
     "metadata": {},
     "output_type": "display_data"
    },
    {
     "data": {
      "application/vnd.jupyter.widget-view+json": {
       "model_id": "5ce719dfccc24a348712847f6036b705",
       "version_major": 2,
       "version_minor": 0
      },
      "text/plain": [
       "model.safetensors:   0%|          | 0.00/268M [00:00<?, ?B/s]"
      ]
     },
     "metadata": {},
     "output_type": "display_data"
    }
   ],
   "source": [
    "modelName = \"distilbert-base-uncased-finetuned-sst-2-english\"\n",
    "\n",
    "myTokenizer = AutoTokenizer.from_pretrained(modelName)\n",
    "myModel = AutoModelForSequenceClassification.from_pretrained(modelName, max_length=2048)\n",
    "\n",
    "classifier = pipeline(\"sentiment-analysis\", model=myModel, tokenizer=myTokenizer)"
   ]
  },
  {
   "cell_type": "markdown",
   "id": "03672180",
   "metadata": {
    "papermill": {
     "duration": 0.008579,
     "end_time": "2024-01-01T22:12:59.210268",
     "exception": false,
     "start_time": "2024-01-01T22:12:59.201689",
     "status": "completed"
    },
    "tags": []
   },
   "source": [
    "# Preparing the data"
   ]
  },
  {
   "cell_type": "code",
   "execution_count": 5,
   "id": "903c6ffa",
   "metadata": {
    "execution": {
     "iopub.execute_input": "2024-01-01T22:12:59.228957Z",
     "iopub.status.busy": "2024-01-01T22:12:59.228551Z",
     "iopub.status.idle": "2024-01-01T22:12:59.234815Z",
     "shell.execute_reply": "2024-01-01T22:12:59.233623Z"
    },
    "papermill": {
     "duration": 0.018683,
     "end_time": "2024-01-01T22:12:59.237470",
     "exception": false,
     "start_time": "2024-01-01T22:12:59.218787",
     "status": "completed"
    },
    "tags": []
   },
   "outputs": [],
   "source": [
    "def computeSentimentScore(text):\n",
    "    out = classifier(text)\n",
    "\n",
    "    if out[0]['label'] == 'POSITIVE':\n",
    "        return out[0]['score']\n",
    "    else:\n",
    "        return out[0]['score'] * -1"
   ]
  },
  {
   "cell_type": "code",
   "execution_count": 6,
   "id": "4c33959e",
   "metadata": {
    "execution": {
     "iopub.execute_input": "2024-01-01T22:12:59.256464Z",
     "iopub.status.busy": "2024-01-01T22:12:59.256029Z",
     "iopub.status.idle": "2024-01-01T22:12:59.262558Z",
     "shell.execute_reply": "2024-01-01T22:12:59.261231Z"
    },
    "papermill": {
     "duration": 0.019147,
     "end_time": "2024-01-01T22:12:59.265144",
     "exception": false,
     "start_time": "2024-01-01T22:12:59.245997",
     "status": "completed"
    },
    "tags": []
   },
   "outputs": [],
   "source": [
    "def isNewsOfInterest(text):\n",
    "    for f in [\"ukrain\", \"kiev\", \"kyiv\", \"odesa\", \"kherson\", \"zelensky\", \"zaluzhnyi\", \"budanov\", \"syrskyi\"]:\n",
    "        if f in text:\n",
    "            return True\n",
    "\n",
    "    return False"
   ]
  },
  {
   "cell_type": "code",
   "execution_count": 7,
   "id": "cdb6eda9",
   "metadata": {
    "execution": {
     "iopub.execute_input": "2024-01-01T22:12:59.283886Z",
     "iopub.status.busy": "2024-01-01T22:12:59.283463Z",
     "iopub.status.idle": "2024-01-01T22:14:37.257730Z",
     "shell.execute_reply": "2024-01-01T22:14:37.256784Z"
    },
    "papermill": {
     "duration": 97.986931,
     "end_time": "2024-01-01T22:14:37.260649",
     "exception": false,
     "start_time": "2024-01-01T22:12:59.273718",
     "status": "completed"
    },
    "tags": []
   },
   "outputs": [],
   "source": [
    "data = {}\n",
    "\n",
    "for row in df.iterrows():\n",
    "    text = (row[1][\"title\"] + row[1][\"description\"]).lower()\n",
    "    if isNewsOfInterest(text):\n",
    "        date = pd.to_datetime(row[1][\"pubDate\"])\n",
    "\n",
    "        year = date.year\n",
    "        week = date.week\n",
    "\n",
    "        if year in data:\n",
    "            if week in data[year]:\n",
    "                found = data[year][week]\n",
    "                foundCount = found[\"count\"]\n",
    "                data[year][week][\"count\"] = foundCount + 1\n",
    "                data[year][week][\"sentiment\"].append(computeSentimentScore(text))\n",
    "            else:\n",
    "                foundMap = data[year]\n",
    "                foundMap[week] = {\"count\": 1, \"sentiment\": [computeSentimentScore(text)]}\n",
    "        else:\n",
    "            data[year] = {week: {\"count\": 1, \"sentiment\": [computeSentimentScore(text)]}}"
   ]
  },
  {
   "cell_type": "code",
   "execution_count": 8,
   "id": "df9c5c1c",
   "metadata": {
    "execution": {
     "iopub.execute_input": "2024-01-01T22:14:37.280654Z",
     "iopub.status.busy": "2024-01-01T22:14:37.280226Z",
     "iopub.status.idle": "2024-01-01T22:14:37.303054Z",
     "shell.execute_reply": "2024-01-01T22:14:37.301955Z"
    },
    "papermill": {
     "duration": 0.035147,
     "end_time": "2024-01-01T22:14:37.305679",
     "exception": false,
     "start_time": "2024-01-01T22:14:37.270532",
     "status": "completed"
    },
    "tags": []
   },
   "outputs": [],
   "source": [
    "years = []\n",
    "weeks = []\n",
    "mentions = []\n",
    "weekLabels = []\n",
    "sentiments = []\n",
    "\n",
    "for y in data:\n",
    "    for w in data[y]:\n",
    "        years.append(y)\n",
    "        weeks.append(w)\n",
    "        mentions.append(data[y][w][\"count\"])\n",
    "        weekLabels.append(pd.to_datetime((y * 1000) + (w * 7), format='%Y%j').date())\n",
    "        sentimentValues = data[y][w][\"sentiment\"]\n",
    "        sentimentOfTheWeek = sum(sentimentValues) / len(sentimentValues)\n",
    "        sentiments.append(sentimentOfTheWeek)"
   ]
  },
  {
   "cell_type": "code",
   "execution_count": 9,
   "id": "3ab836e2",
   "metadata": {
    "execution": {
     "iopub.execute_input": "2024-01-01T22:14:37.324328Z",
     "iopub.status.busy": "2024-01-01T22:14:37.323895Z",
     "iopub.status.idle": "2024-01-01T22:14:37.330019Z",
     "shell.execute_reply": "2024-01-01T22:14:37.328736Z"
    },
    "papermill": {
     "duration": 0.017931,
     "end_time": "2024-01-01T22:14:37.332197",
     "exception": false,
     "start_time": "2024-01-01T22:14:37.314266",
     "status": "completed"
    },
    "tags": []
   },
   "outputs": [
    {
     "name": "stdout",
     "output_type": "stream",
     "text": [
      "96 96 96 96 96\n"
     ]
    }
   ],
   "source": [
    "print(len(years), len(weeks), len(mentions), len(weekLabels), len(sentiments))"
   ]
  },
  {
   "cell_type": "code",
   "execution_count": 10,
   "id": "19a38aa2",
   "metadata": {
    "execution": {
     "iopub.execute_input": "2024-01-01T22:14:37.351242Z",
     "iopub.status.busy": "2024-01-01T22:14:37.350158Z",
     "iopub.status.idle": "2024-01-01T22:14:37.364841Z",
     "shell.execute_reply": "2024-01-01T22:14:37.363932Z"
    },
    "papermill": {
     "duration": 0.026747,
     "end_time": "2024-01-01T22:14:37.367358",
     "exception": false,
     "start_time": "2024-01-01T22:14:37.340611",
     "status": "completed"
    },
    "tags": []
   },
   "outputs": [],
   "source": [
    "df = pd.DataFrame(\n",
    "    {'year': years,\n",
    "     'week': weeks,\n",
    "     'mentions': mentions,\n",
    "     'weekLabels': weekLabels,\n",
    "     'sentiment': sentiments\n",
    "    })\n",
    "\n",
    "df = df.sort_values(by=['year', 'week'])\n",
    "df = df.reset_index(drop=True)"
   ]
  },
  {
   "cell_type": "code",
   "execution_count": 11,
   "id": "b9b4ea39",
   "metadata": {
    "execution": {
     "iopub.execute_input": "2024-01-01T22:14:37.386671Z",
     "iopub.status.busy": "2024-01-01T22:14:37.385542Z",
     "iopub.status.idle": "2024-01-01T22:14:37.397231Z",
     "shell.execute_reply": "2024-01-01T22:14:37.395750Z"
    },
    "papermill": {
     "duration": 0.023801,
     "end_time": "2024-01-01T22:14:37.399687",
     "exception": false,
     "start_time": "2024-01-01T22:14:37.375886",
     "status": "completed"
    },
    "tags": []
   },
   "outputs": [
    {
     "name": "stdout",
     "output_type": "stream",
     "text": [
      "    year  week  mentions  weekLabels  sentiment\n",
      "0   2022     9        22  2022-03-04  -0.374819\n",
      "1   2022    10       158  2022-03-11  -0.416849\n",
      "2   2022    11       104  2022-03-18  -0.560479\n",
      "3   2022    12        72  2022-03-25  -0.697629\n",
      "4   2022    13        56  2022-04-01  -0.504394\n",
      "..   ...   ...       ...         ...        ...\n",
      "91  2023    48         5  2023-12-02  -0.987849\n",
      "92  2023    49         6  2023-12-09  -0.977327\n",
      "93  2023    50        13  2023-12-16  -0.532334\n",
      "94  2023    51         8  2023-12-23  -0.009403\n",
      "95  2023    52        18  2023-12-30  -0.557149\n",
      "\n",
      "[96 rows x 5 columns]\n",
      "(96, 5)\n"
     ]
    }
   ],
   "source": [
    "print(df.head(100))\n",
    "print(df.shape)\n",
    "\n",
    "numberOfBins = 12"
   ]
  },
  {
   "cell_type": "markdown",
   "id": "c6489204",
   "metadata": {
    "papermill": {
     "duration": 0.008009,
     "end_time": "2024-01-01T22:14:37.416022",
     "exception": false,
     "start_time": "2024-01-01T22:14:37.408013",
     "status": "completed"
    },
    "tags": []
   },
   "source": [
    "# News mentions of the conflict"
   ]
  },
  {
   "cell_type": "code",
   "execution_count": 12,
   "id": "a6db3626",
   "metadata": {
    "execution": {
     "iopub.execute_input": "2024-01-01T22:14:37.434497Z",
     "iopub.status.busy": "2024-01-01T22:14:37.433726Z",
     "iopub.status.idle": "2024-01-01T22:14:38.131629Z",
     "shell.execute_reply": "2024-01-01T22:14:38.130326Z"
    },
    "papermill": {
     "duration": 0.710694,
     "end_time": "2024-01-01T22:14:38.134752",
     "exception": false,
     "start_time": "2024-01-01T22:14:37.424058",
     "status": "completed"
    },
    "tags": []
   },
   "outputs": [
    {
     "data": {
      "text/plain": [
       "Text(0.5, 1.0, 'Mentions in the news, per week')"
      ]
     },
     "execution_count": 12,
     "metadata": {},
     "output_type": "execute_result"
    },
    {
     "data": {
      "image/png": "[encoded data removed]",
      "text/plain": [
       "<Figure size 1400x1200 with 1 Axes>"
      ]
     },
     "metadata": {},
     "output_type": "display_data"
    }
   ],
   "source": [
    "plt.figure(figsize=(14, 12))\n",
    "df[\"mentions\"].plot()\n",
    "plt.xticks(range(len(df[\"weekLabels\"])), df[\"weekLabels\"], size='large')\n",
    "plt.xticks(rotation = 30)\n",
    "plt.locator_params(axis='x', nbins=numberOfBins)\n",
    "plt.title('Mentions in the news, per week', fontsize = 26)"
   ]
  },
  {
   "cell_type": "markdown",
   "id": "7ec01f0d",
   "metadata": {
    "papermill": {
     "duration": 0.009786,
     "end_time": "2024-01-01T22:14:38.154853",
     "exception": false,
     "start_time": "2024-01-01T22:14:38.145067",
     "status": "completed"
    },
    "tags": []
   },
   "source": [
    "# News sentiment of the conflict"
   ]
  },
  {
   "cell_type": "code",
   "execution_count": 13,
   "id": "b538f7da",
   "metadata": {
    "execution": {
     "iopub.execute_input": "2024-01-01T22:14:38.178335Z",
     "iopub.status.busy": "2024-01-01T22:14:38.176950Z",
     "iopub.status.idle": "2024-01-01T22:14:38.851111Z",
     "shell.execute_reply": "2024-01-01T22:14:38.849933Z"
    },
    "papermill": {
     "duration": 0.689379,
     "end_time": "2024-01-01T22:14:38.855045",
     "exception": false,
     "start_time": "2024-01-01T22:14:38.165666",
     "status": "completed"
    },
    "tags": []
   },
   "outputs": [
    {
     "data": {
      "text/plain": [
       "Text(0.5, 1.0, 'Sentiment of the news, per week, higher is more positive')"
      ]
     },
     "execution_count": 13,
     "metadata": {},
     "output_type": "execute_result"
    },
    {
     "data": {
      "image/png": "[encoded data removed]",
      "text/plain": [
       "<Figure size 1400x1200 with 1 Axes>"
      ]
     },
     "metadata": {},
     "output_type": "display_data"
    }
   ],
   "source": [
    "plt.figure(figsize=(14, 12))\n",
    "df[\"sentiment\"].plot(color='green')\n",
    "plt.xticks(range(len(df[\"weekLabels\"])), df[\"weekLabels\"], size='large')\n",
    "plt.xticks(rotation = 30)\n",
    "plt.locator_params(axis='x', nbins=numberOfBins)\n",
    "plt.title('Sentiment of the news, per week, higher is more positive', fontsize = 26)"
   ]
  },
  {
   "cell_type": "markdown",
   "id": "89e9995e",
   "metadata": {
    "papermill": {
     "duration": 0.01178,
     "end_time": "2024-01-01T22:14:38.878561",
     "exception": false,
     "start_time": "2024-01-01T22:14:38.866781",
     "status": "completed"
    },
    "tags": []
   },
   "source": [
    "# Finish!\n",
    "You have made it to the finish, thank you. Please upvote if you liked it :)"
   ]
  }
 ],
 "metadata": {
  "kaggle": {
   "accelerator": "none",
   "dataSources": [
    {
     "datasetId": 1977878,
     "sourceId": 7315324,
     "sourceType": "datasetVersion"
    }
   ],
   "dockerImageVersionId": 30626,
   "isGpuEnabled": false,
   "isInternetEnabled": true,
   "language": "python",
   "sourceType": "notebook"
  },
  "kernelspec": {
   "display_name": "Python 3",
   "language": "python",
   "name": "python3"
  },
  "language_info": {
   "codemirror_mode": {
    "name": "ipython",
    "version": 3
   },
   "file_extension": ".py",
   "mimetype": "text/x-python",
   "name": "python",
   "nbconvert_exporter": "python",
   "pygments_lexer": "ipython3",
   "version": "3.10.12"
  },
  "papermill": {
   "default_parameters": {},
   "duration": 133.469307,
   "end_time": "2024-01-01T22:14:42.273194",
   "environment_variables": {},
   "exception": null,
   "input_path": "__notebook__.ipynb",
   "output_path": "__notebook__.ipynb",
   "parameters": {},
   "start_time": "2024-01-01T22:12:28.803887",
   "version": "2.4.0"
  },
  "widgets": {
   "application/vnd.jupyter.widget-state+json": {
    "state": {
     "0188748c97e34e258d6346d8c6bbb289": {
      "model_module": "@jupyter-widgets/base",
      "model_module_version": "1.2.0",
      "model_name": "LayoutModel",
      "state": {
       "_model_module": "@jupyter-widgets/base",
       "_model_module_version": "1.2.0",
       "_model_name": "LayoutModel",
       "_view_count": null,
       "_view_module": "@jupyter-widgets/base",
       "_view_module_version": "1.2.0",
       "_view_name": "LayoutView",
       "align_content": null,
       "align_items": null,
       "align_self": null,
       "border": null,
       "bottom": null,
       "display": null,
       "flex": null,
       "flex_flow": null,
       "grid_area": null,
       "grid_auto_columns": null,
       "grid_auto_flow": null,
       "grid_auto_rows": null,
       "grid_column": null,
       "grid_gap": null,
       "grid_row": null,
       "grid_template_areas": null,
       "grid_template_columns": null,
       "grid_template_rows": null,
       "height": null,
       "justify_content": null,
       "justify_items": null,
       "left": null,
       "margin": null,
       "max_height": null,
       "max_width": null,
       "min_height": null,
       "min_width": null,
       "object_fit": null,
       "object_position": null,
       "order": null,
       "overflow": null,
       "overflow_x": null,
       "overflow_y": null,
       "padding": null,
       "right": null,
       "top": null,
       "visibility": null,
       "width": null
      }
     },
     "045ca127a0fe465bb8f514f5208f76d1": {
      "model_module": "@jupyter-widgets/controls",
      "model_module_version": "1.5.0",
      "model_name": "HTMLModel",
      "state": {
       "_dom_classes": [],
       "_model_module": "@jupyter-widgets/controls",
       "_model_module_version": "1.5.0",
       "_model_name": "HTMLModel",
       "_view_count": null,
       "_view_module": "@jupyter-widgets/controls",
       "_view_module_version": "1.5.0",
       "_view_name": "HTMLView",
       "description": "",
       "description_tooltip": null,
       "layout": "IPY_MODEL_1e00d919878a425c9dbf2a5ccb3155b4",
       "placeholder": "​",
       "style": "IPY_MODEL_ae536887fcc843bdbd4682d8f3a8ff4b",
       "value": " 268M/268M [00:02&lt;00:00, 96.2MB/s]"
      }
     },
     "05a1c889777c455284209331d5db39a7": {
      "model_module": "@jupyter-widgets/base",
      "model_module_version": "1.2.0",
      "model_name": "LayoutModel",
      "state": {
       "_model_module": "@jupyter-widgets/base",
       "_model_module_version": "1.2.0",
       "_model_name": "LayoutModel",
       "_view_count": null,
       "_view_module": "@jupyter-widgets/base",
       "_view_module_version": "1.2.0",
       "_view_name": "LayoutView",
       "align_content": null,
       "align_items": null,
       "align_self": null,
       "border": null,
       "bottom": null,
       "display": null,
       "flex": null,
       "flex_flow": null,
       "grid_area": null,
       "grid_auto_columns": null,
       "grid_auto_flow": null,
       "grid_auto_rows": null,
       "grid_column": null,
       "grid_gap": null,
       "grid_row": null,
       "grid_template_areas": null,
       "grid_template_columns": null,
       "grid_template_rows": null,
       "height": null,
       "justify_content": null,
       "justify_items": null,
       "left": null,
       "margin": null,
       "max_height": null,
       "max_width": null,
       "min_height": null,
       "min_width": null,
       "object_fit": null,
       "object_position": null,
       "order": null,
       "overflow": null,
       "overflow_x": null,
       "overflow_y": null,
       "padding": null,
       "right": null,
       "top": null,
       "visibility": null,
       "width": null
      }
     },
     "06e60c12b44c451590d7688fa94f9033": {
      "model_module": "@jupyter-widgets/base",
      "model_module_version": "1.2.0",
      "model_name": "LayoutModel",
      "state": {
       "_model_module": "@jupyter-widgets/base",
       "_model_module_version": "1.2.0",
       "_model_name": "LayoutModel",
       "_view_count": null,
       "_view_module": "@jupyter-widgets/base",
       "_view_module_version": "1.2.0",
       "_view_name": "LayoutView",
       "align_content": null,
       "align_items": null,
       "align_self": null,
       "border": null,
       "bottom": null,
       "display": null,
       "flex": null,
       "flex_flow": null,
       "grid_area": null,
       "grid_auto_columns": null,
       "grid_auto_flow": null,
       "grid_auto_rows": null,
       "grid_column": null,
       "grid_gap": null,
       "grid_row": null,
       "grid_template_areas": null,
       "grid_template_columns": null,
       "grid_template_rows": null,
       "height": null,
       "justify_content": null,
       "justify_items": null,
       "left": null,
       "margin": null,
       "max_height": null,
       "max_width": null,
       "min_height": null,
       "min_width": null,
       "object_fit": null,
       "object_position": null,
       "order": null,
       "overflow": null,
       "overflow_x": null,
       "overflow_y": null,
       "padding": null,
       "right": null,
       "top": null,
       "visibility": null,
       "width": null
      }
     },
     "0a03b47e4d1b4f0da24310070b3fafb4": {
      "model_module": "@jupyter-widgets/base",
      "model_module_version": "1.2.0",
      "model_name": "LayoutModel",
      "state": {
       "_model_module": "@jupyter-widgets/base",
       "_model_module_version": "1.2.0",
       "_model_name": "LayoutModel",
       "_view_count": null,
       "_view_module": "@jupyter-widgets/base",
       "_view_module_version": "1.2.0",
       "_view_name": "LayoutView",
       "align_content": null,
       "align_items": null,
       "align_self": null,
       "border": null,
       "bottom": null,
       "display": null,
       "flex": null,
       "flex_flow": null,
       "grid_area": null,
       "grid_auto_columns": null,
       "grid_auto_flow": null,
       "grid_auto_rows": null,
       "grid_column": null,
       "grid_gap": null,
       "grid_row": null,
       "grid_template_areas": null,
       "grid_template_columns": null,
       "grid_template_rows": null,
       "height": null,
       "justify_content": null,
       "justify_items": null,
       "left": null,
       "margin": null,
       "max_height": null,
       "max_width": null,
       "min_height": null,
       "min_width": null,
       "object_fit": null,
       "object_position": null,
       "order": null,
       "overflow": null,
       "overflow_x": null,
       "overflow_y": null,
       "padding": null,
       "right": null,
       "top": null,
       "visibility": null,
       "width": null
      }
     },
     "0bd4055c6a79416db454a34becdba4b0": {
      "model_module": "@jupyter-widgets/controls",
      "model_module_version": "1.5.0",
      "model_name": "DescriptionStyleModel",
      "state": {
       "_model_module": "@jupyter-widgets/controls",
       "_model_module_version": "1.5.0",
       "_model_name": "DescriptionStyleModel",
       "_view_count": null,
       "_view_module": "@jupyter-widgets/base",
       "_view_module_version": "1.2.0",
       "_view_name": "StyleView",
       "description_width": ""
      }
     },
     "10a6481421964f9e8b6f7f317e1cc086": {
      "model_module": "@jupyter-widgets/base",
      "model_module_version": "1.2.0",
      "model_name": "LayoutModel",
      "state": {
       "_model_module": "@jupyter-widgets/base",
       "_model_module_version": "1.2.0",
       "_model_name": "LayoutModel",
       "_view_count": null,
       "_view_module": "@jupyter-widgets/base",
       "_view_module_version": "1.2.0",
       "_view_name": "LayoutView",
       "align_content": null,
       "align_items": null,
       "align_self": null,
       "border": null,
       "bottom": null,
       "display": null,
       "flex": null,
       "flex_flow": null,
       "grid_area": null,
       "grid_auto_columns": null,
       "grid_auto_flow": null,
       "grid_auto_rows": null,
       "grid_column": null,
       "grid_gap": null,
       "grid_row": null,
       "grid_template_areas": null,
       "grid_template_columns": null,
       "grid_template_rows": null,
       "height": null,
       "justify_content": null,
       "justify_items": null,
       "left": null,
       "margin": null,
       "max_height": null,
       "max_width": null,
       "min_height": null,
       "min_width": null,
       "object_fit": null,
       "object_position": null,
       "order": null,
       "overflow": null,
       "overflow_x": null,
       "overflow_y": null,
       "padding": null,
       "right": null,
       "top": null,
       "visibility": null,
       "width": null
      }
     },
     "1e00d919878a425c9dbf2a5ccb3155b4": {
      "model_module": "@jupyter-widgets/base",
      "model_module_version": "1.2.0",
      "model_name": "LayoutModel",
      "state": {
       "_model_module": "@jupyter-widgets/base",
       "_model_module_version": "1.2.0",
       "_model_name": "LayoutModel",
       "_view_count": null,
       "_view_module": "@jupyter-widgets/base",
       "_view_module_version": "1.2.0",
       "_view_name": "LayoutView",
       "align_content": null,
       "align_items": null,
       "align_self": null,
       "border": null,
       "bottom": null,
       "display": null,
       "flex": null,
       "flex_flow": null,
       "grid_area": null,
       "grid_auto_columns": null,
       "grid_auto_flow": null,
       "grid_auto_rows": null,
       "grid_column": null,
       "grid_gap": null,
       "grid_row": null,
       "grid_template_areas": null,
       "grid_template_columns": null,
       "grid_template_rows": null,
       "height": null,
       "justify_content": null,
       "justify_items": null,
       "left": null,
       "margin": null,
       "max_height": null,
       "max_width": null,
       "min_height": null,
       "min_width": null,
       "object_fit": null,
       "object_position": null,
       "order": null,
       "overflow": null,
       "overflow_x": null,
       "overflow_y": null,
       "padding": null,
       "right": null,
       "top": null,
       "visibility": null,
       "width": null
      }
     },
     "23b0820178574bbe99e855373182a70d": {
      "model_module": "@jupyter-widgets/base",
      "model_module_version": "1.2.0",
      "model_name": "LayoutModel",
      "state": {
       "_model_module": "@jupyter-widgets/base",
       "_model_module_version": "1.2.0",
       "_model_name": "LayoutModel",
       "_view_count": null,
       "_view_module": "@jupyter-widgets/base",
       "_view_module_version": "1.2.0",
       "_view_name": "LayoutView",
       "align_content": null,
       "align_items": null,
       "align_self": null,
       "border": null,
       "bottom": null,
       "display": null,
       "flex": null,
       "flex_flow": null,
       "grid_area": null,
       "grid_auto_columns": null,
       "grid_auto_flow": null,
       "grid_auto_rows": null,
       "grid_column": null,
       "grid_gap": null,
       "grid_row": null,
       "grid_template_areas": null,
       "grid_template_columns": null,
       "grid_template_rows": null,
       "height": null,
       "justify_content": null,
       "justify_items": null,
       "left": null,
       "margin": null,
       "max_height": null,
       "max_width": null,
       "min_height": null,
       "min_width": null,
       "object_fit": null,
       "object_position": null,
       "order": null,
       "overflow": null,
       "overflow_x": null,
       "overflow_y": null,
       "padding": null,
       "right": null,
       "top": null,
       "visibility": null,
       "width": null
      }
     },
     "2f27841666374dc081af93b63ef8074b": {
      "model_module": "@jupyter-widgets/controls",
      "model_module_version": "1.5.0",
      "model_name": "DescriptionStyleModel",
      "state": {
       "_model_module": "@jupyter-widgets/controls",
       "_model_module_version": "1.5.0",
       "_model_name": "DescriptionStyleModel",
       "_view_count": null,
       "_view_module": "@jupyter-widgets/base",
       "_view_module_version": "1.2.0",
       "_view_name": "StyleView",
       "description_width": ""
      }
     },
     "416f84f130e64c73bf904f5bc79646d6": {
      "model_module": "@jupyter-widgets/controls",
      "model_module_version": "1.5.0",
      "model_name": "HBoxModel",
      "state": {
       "_dom_classes": [],
       "_model_module": "@jupyter-widgets/controls",
       "_model_module_version": "1.5.0",
       "_model_name": "HBoxModel",
       "_view_count": null,
       "_view_module": "@jupyter-widgets/controls",
       "_view_module_version": "1.5.0",
       "_view_name": "HBoxView",
       "box_style": "",
       "children": [
        "IPY_MODEL_d533e844c2aa400ea1f4ea7d3ab0df37",
        "IPY_MODEL_7adce123c162467f845727f9bb7768fd",
        "IPY_MODEL_577b64657ad749a5ab6b36abb96fbe48"
       ],
       "layout": "IPY_MODEL_23b0820178574bbe99e855373182a70d"
      }
     },
     "4472ea3a1a91492394c332b49e7d1873": {
      "model_module": "@jupyter-widgets/controls",
      "model_module_version": "1.5.0",
      "model_name": "HTMLModel",
      "state": {
       "_dom_classes": [],
       "_model_module": "@jupyter-widgets/controls",
       "_model_module_version": "1.5.0",
       "_model_name": "HTMLModel",
       "_view_count": null,
       "_view_module": "@jupyter-widgets/controls",
       "_view_module_version": "1.5.0",
       "_view_name": "HTMLView",
       "description": "",
       "description_tooltip": null,
       "layout": "IPY_MODEL_cf2ef8cb13594639881714a331cc2714",
       "placeholder": "​",
       "style": "IPY_MODEL_d63ea799177b4acba0ea4117ec6037d7",
       "value": "model.safetensors: 100%"
      }
     },
     "467f19ceba48423abe76e6ac2f1af0dd": {
      "model_module": "@jupyter-widgets/controls",
      "model_module_version": "1.5.0",
      "model_name": "DescriptionStyleModel",
      "state": {
       "_model_module": "@jupyter-widgets/controls",
       "_model_module_version": "1.5.0",
       "_model_name": "DescriptionStyleModel",
       "_view_count": null,
       "_view_module": "@jupyter-widgets/base",
       "_view_module_version": "1.2.0",
       "_view_name": "StyleView",
       "description_width": ""
      }
     },
     "4acf131825ed40cd8037a9d1ce1fdb4b": {
      "model_module": "@jupyter-widgets/base",
      "model_module_version": "1.2.0",
      "model_name": "LayoutModel",
      "state": {
       "_model_module": "@jupyter-widgets/base",
       "_model_module_version": "1.2.0",
       "_model_name": "LayoutModel",
       "_view_count": null,
       "_view_module": "@jupyter-widgets/base",
       "_view_module_version": "1.2.0",
       "_view_name": "LayoutView",
       "align_content": null,
       "align_items": null,
       "align_self": null,
       "border": null,
       "bottom": null,
       "display": null,
       "flex": null,
       "flex_flow": null,
       "grid_area": null,
       "grid_auto_columns": null,
       "grid_auto_flow": null,
       "grid_auto_rows": null,
       "grid_column": null,
       "grid_gap": null,
       "grid_row": null,
       "grid_template_areas": null,
       "grid_template_columns": null,
       "grid_template_rows": null,
       "height": null,
       "justify_content": null,
       "justify_items": null,
       "left": null,
       "margin": null,
       "max_height": null,
       "max_width": null,
       "min_height": null,
       "min_width": null,
       "object_fit": null,
       "object_position": null,
       "order": null,
       "overflow": null,
       "overflow_x": null,
       "overflow_y": null,
       "padding": null,
       "right": null,
       "top": null,
       "visibility": null,
       "width": null
      }
     },
     "509cdc30831a4e6e87ae2be7c218fc5b": {
      "model_module": "@jupyter-widgets/controls",
      "model_module_version": "1.5.0",
      "model_name": "DescriptionStyleModel",
      "state": {
       "_model_module": "@jupyter-widgets/controls",
       "_model_module_version": "1.5.0",
       "_model_name": "DescriptionStyleModel",
       "_view_count": null,
       "_view_module": "@jupyter-widgets/base",
       "_view_module_version": "1.2.0",
       "_view_name": "StyleView",
       "description_width": ""
      }
     },
     "577b64657ad749a5ab6b36abb96fbe48": {
      "model_module": "@jupyter-widgets/controls",
      "model_module_version": "1.5.0",
      "model_name": "HTMLModel",
      "state": {
       "_dom_classes": [],
       "_model_module": "@jupyter-widgets/controls",
       "_model_module_version": "1.5.0",
       "_model_name": "HTMLModel",
       "_view_count": null,
       "_view_module": "@jupyter-widgets/controls",
       "_view_module_version": "1.5.0",
       "_view_name": "HTMLView",
       "description": "",
       "description_tooltip": null,
       "layout": "IPY_MODEL_fdc6b0983bee4ec298e9827804500660",
       "placeholder": "​",
       "style": "IPY_MODEL_fa13e51570974afa87a3bcc55a791481",
       "value": " 48.0/48.0 [00:00&lt;00:00, 3.60kB/s]"
      }
     },
     "5ce719dfccc24a348712847f6036b705": {
      "model_module": "@jupyter-widgets/controls",
      "model_module_version": "1.5.0",
      "model_name": "HBoxModel",
      "state": {
       "_dom_classes": [],
       "_model_module": "@jupyter-widgets/controls",
       "_model_module_version": "1.5.0",
       "_model_name": "HBoxModel",
       "_view_count": null,
       "_view_module": "@jupyter-widgets/controls",
       "_view_module_version": "1.5.0",
       "_view_name": "HBoxView",
       "box_style": "",
       "children": [
        "IPY_MODEL_4472ea3a1a91492394c332b49e7d1873",
        "IPY_MODEL_98fc1faa9a884442abb01178e7b16b5c",
        "IPY_MODEL_045ca127a0fe465bb8f514f5208f76d1"
       ],
       "layout": "IPY_MODEL_99ca28a5f9ac437f8c8253648997debd"
      }
     },
     "63d0794b25644c9e91b735f1a85162b9": {
      "model_module": "@jupyter-widgets/controls",
      "model_module_version": "1.5.0",
      "model_name": "HBoxModel",
      "state": {
       "_dom_classes": [],
       "_model_module": "@jupyter-widgets/controls",
       "_model_module_version": "1.5.0",
       "_model_name": "HBoxModel",
       "_view_count": null,
       "_view_module": "@jupyter-widgets/controls",
       "_view_module_version": "1.5.0",
       "_view_name": "HBoxView",
       "box_style": "",
       "children": [
        "IPY_MODEL_7a300bca33774f569a7ff498f8641df1",
        "IPY_MODEL_b139a767d0a242869cb160c88ad5cefc",
        "IPY_MODEL_c71cafdfbbd34e07b6f6189dc7ee2b87"
       ],
       "layout": "IPY_MODEL_10a6481421964f9e8b6f7f317e1cc086"
      }
     },
     "7a300bca33774f569a7ff498f8641df1": {
      "model_module": "@jupyter-widgets/controls",
      "model_module_version": "1.5.0",
      "model_name": "HTMLModel",
      "state": {
       "_dom_classes": [],
       "_model_module": "@jupyter-widgets/controls",
       "_model_module_version": "1.5.0",
       "_model_name": "HTMLModel",
       "_view_count": null,
       "_view_module": "@jupyter-widgets/controls",
       "_view_module_version": "1.5.0",
       "_view_name": "HTMLView",
       "description": "",
       "description_tooltip": null,
       "layout": "IPY_MODEL_ad769054b97c4333861c6bd0db713117",
       "placeholder": "​",
       "style": "IPY_MODEL_bf84b89d404a4543a043d6b3255126aa",
       "value": "config.json: 100%"
      }
     },
     "7adce123c162467f845727f9bb7768fd": {
      "model_module": "@jupyter-widgets/controls",
      "model_module_version": "1.5.0",
      "model_name": "FloatProgressModel",
      "state": {
       "_dom_classes": [],
       "_model_module": "@jupyter-widgets/controls",
       "_model_module_version": "1.5.0",
       "_model_name": "FloatProgressModel",
       "_view_count": null,
       "_view_module": "@jupyter-widgets/controls",
       "_view_module_version": "1.5.0",
       "_view_name": "ProgressView",
       "bar_style": "success",
       "description": "",
       "description_tooltip": null,
       "layout": "IPY_MODEL_06e60c12b44c451590d7688fa94f9033",
       "max": 48.0,
       "min": 0.0,
       "orientation": "horizontal",
       "style": "IPY_MODEL_8e86d10ca46b48cbabf9efa0617e3051",
       "value": 48.0
      }
     },
     "7d4ed82524f245f0b2c74bf8e6404b3e": {
      "model_module": "@jupyter-widgets/controls",
      "model_module_version": "1.5.0",
      "model_name": "FloatProgressModel",
      "state": {
       "_dom_classes": [],
       "_model_module": "@jupyter-widgets/controls",
       "_model_module_version": "1.5.0",
       "_model_name": "FloatProgressModel",
       "_view_count": null,
       "_view_module": "@jupyter-widgets/controls",
       "_view_module_version": "1.5.0",
       "_view_name": "ProgressView",
       "bar_style": "success",
       "description": "",
       "description_tooltip": null,
       "layout": "IPY_MODEL_e7abdff4b538486095992a29ab2a317a",
       "max": 231508.0,
       "min": 0.0,
       "orientation": "horizontal",
       "style": "IPY_MODEL_b99ae9d42e654c04b0b0e885a08c587f",
       "value": 231508.0
      }
     },
     "8e86d10ca46b48cbabf9efa0617e3051": {
      "model_module": "@jupyter-widgets/controls",
      "model_module_version": "1.5.0",
      "model_name": "ProgressStyleModel",
      "state": {
       "_model_module": "@jupyter-widgets/controls",
       "_model_module_version": "1.5.0",
       "_model_name": "ProgressStyleModel",
       "_view_count": null,
       "_view_module": "@jupyter-widgets/base",
       "_view_module_version": "1.2.0",
       "_view_name": "StyleView",
       "bar_color": null,
       "description_width": ""
      }
     },
     "9785a4865e0b4f9b8b0b4bdbd6adc064": {
      "model_module": "@jupyter-widgets/controls",
      "model_module_version": "1.5.0",
      "model_name": "HTMLModel",
      "state": {
       "_dom_classes": [],
       "_model_module": "@jupyter-widgets/controls",
       "_model_module_version": "1.5.0",
       "_model_name": "HTMLModel",
       "_view_count": null,
       "_view_module": "@jupyter-widgets/controls",
       "_view_module_version": "1.5.0",
       "_view_name": "HTMLView",
       "description": "",
       "description_tooltip": null,
       "layout": "IPY_MODEL_e44c6fad3701474d853afa5eae4c8c62",
       "placeholder": "​",
       "style": "IPY_MODEL_509cdc30831a4e6e87ae2be7c218fc5b",
       "value": "vocab.txt: 100%"
      }
     },
     "98fc1faa9a884442abb01178e7b16b5c": {
      "model_module": "@jupyter-widgets/controls",
      "model_module_version": "1.5.0",
      "model_name": "FloatProgressModel",
      "state": {
       "_dom_classes": [],
       "_model_module": "@jupyter-widgets/controls",
       "_model_module_version": "1.5.0",
       "_model_name": "FloatProgressModel",
       "_view_count": null,
       "_view_module": "@jupyter-widgets/controls",
       "_view_module_version": "1.5.0",
       "_view_name": "ProgressView",
       "bar_style": "success",
       "description": "",
       "description_tooltip": null,
       "layout": "IPY_MODEL_05a1c889777c455284209331d5db39a7",
       "max": 267832558.0,
       "min": 0.0,
       "orientation": "horizontal",
       "style": "IPY_MODEL_d692173ac5f54cab997afca9c931660d",
       "value": 267832558.0
      }
     },
     "99ca28a5f9ac437f8c8253648997debd": {
      "model_module": "@jupyter-widgets/base",
      "model_module_version": "1.2.0",
      "model_name": "LayoutModel",
      "state": {
       "_model_module": "@jupyter-widgets/base",
       "_model_module_version": "1.2.0",
       "_model_name": "LayoutModel",
       "_view_count": null,
       "_view_module": "@jupyter-widgets/base",
       "_view_module_version": "1.2.0",
       "_view_name": "LayoutView",
       "align_content": null,
       "align_items": null,
       "align_self": null,
       "border": null,
       "bottom": null,
       "display": null,
       "flex": null,
       "flex_flow": null,
       "grid_area": null,
       "grid_auto_columns": null,
       "grid_auto_flow": null,
       "grid_auto_rows": null,
       "grid_column": null,
       "grid_gap": null,
       "grid_row": null,
       "grid_template_areas": null,
       "grid_template_columns": null,
       "grid_template_rows": null,
       "height": null,
       "justify_content": null,
       "justify_items": null,
       "left": null,
       "margin": null,
       "max_height": null,
       "max_width": null,
       "min_height": null,
       "min_width": null,
       "object_fit": null,
       "object_position": null,
       "order": null,
       "overflow": null,
       "overflow_x": null,
       "overflow_y": null,
       "padding": null,
       "right": null,
       "top": null,
       "visibility": null,
       "width": null
      }
     },
     "9ddb7296bb0346889bf5b845557361eb": {
      "model_module": "@jupyter-widgets/controls",
      "model_module_version": "1.5.0",
      "model_name": "HTMLModel",
      "state": {
       "_dom_classes": [],
       "_model_module": "@jupyter-widgets/controls",
       "_model_module_version": "1.5.0",
       "_model_name": "HTMLModel",
       "_view_count": null,
       "_view_module": "@jupyter-widgets/controls",
       "_view_module_version": "1.5.0",
       "_view_name": "HTMLView",
       "description": "",
       "description_tooltip": null,
       "layout": "IPY_MODEL_0188748c97e34e258d6346d8c6bbb289",
       "placeholder": "​",
       "style": "IPY_MODEL_2f27841666374dc081af93b63ef8074b",
       "value": " 232k/232k [00:00&lt;00:00, 592kB/s]"
      }
     },
     "ad769054b97c4333861c6bd0db713117": {
      "model_module": "@jupyter-widgets/base",
      "model_module_version": "1.2.0",
      "model_name": "LayoutModel",
      "state": {
       "_model_module": "@jupyter-widgets/base",
       "_model_module_version": "1.2.0",
       "_model_name": "LayoutModel",
       "_view_count": null,
       "_view_module": "@jupyter-widgets/base",
       "_view_module_version": "1.2.0",
       "_view_name": "LayoutView",
       "align_content": null,
       "align_items": null,
       "align_self": null,
       "border": null,
       "bottom": null,
       "display": null,
       "flex": null,
       "flex_flow": null,
       "grid_area": null,
       "grid_auto_columns": null,
       "grid_auto_flow": null,
       "grid_auto_rows": null,
       "grid_column": null,
       "grid_gap": null,
       "grid_row": null,
       "grid_template_areas": null,
       "grid_template_columns": null,
       "grid_template_rows": null,
       "height": null,
       "justify_content": null,
       "justify_items": null,
       "left": null,
       "margin": null,
       "max_height": null,
       "max_width": null,
       "min_height": null,
       "min_width": null,
       "object_fit": null,
       "object_position": null,
       "order": null,
       "overflow": null,
       "overflow_x": null,
       "overflow_y": null,
       "padding": null,
       "right": null,
       "top": null,
       "visibility": null,
       "width": null
      }
     },
     "ae536887fcc843bdbd4682d8f3a8ff4b": {
      "model_module": "@jupyter-widgets/controls",
      "model_module_version": "1.5.0",
      "model_name": "DescriptionStyleModel",
      "state": {
       "_model_module": "@jupyter-widgets/controls",
       "_model_module_version": "1.5.0",
       "_model_name": "DescriptionStyleModel",
       "_view_count": null,
       "_view_module": "@jupyter-widgets/base",
       "_view_module_version": "1.2.0",
       "_view_name": "StyleView",
       "description_width": ""
      }
     },
     "b139a767d0a242869cb160c88ad5cefc": {
      "model_module": "@jupyter-widgets/controls",
      "model_module_version": "1.5.0",
      "model_name": "FloatProgressModel",
      "state": {
       "_dom_classes": [],
       "_model_module": "@jupyter-widgets/controls",
       "_model_module_version": "1.5.0",
       "_model_name": "FloatProgressModel",
       "_view_count": null,
       "_view_module": "@jupyter-widgets/controls",
       "_view_module_version": "1.5.0",
       "_view_name": "ProgressView",
       "bar_style": "success",
       "description": "",
       "description_tooltip": null,
       "layout": "IPY_MODEL_f5f919697e234232911e7cdc74f3dda6",
       "max": 629.0,
       "min": 0.0,
       "orientation": "horizontal",
       "style": "IPY_MODEL_f1ff101b61ab4d8c98abed9b39f5be01",
       "value": 629.0
      }
     },
     "b99ae9d42e654c04b0b0e885a08c587f": {
      "model_module": "@jupyter-widgets/controls",
      "model_module_version": "1.5.0",
      "model_name": "ProgressStyleModel",
      "state": {
       "_model_module": "@jupyter-widgets/controls",
       "_model_module_version": "1.5.0",
       "_model_name": "ProgressStyleModel",
       "_view_count": null,
       "_view_module": "@jupyter-widgets/base",
       "_view_module_version": "1.2.0",
       "_view_name": "StyleView",
       "bar_color": null,
       "description_width": ""
      }
     },
     "bf84b89d404a4543a043d6b3255126aa": {
      "model_module": "@jupyter-widgets/controls",
      "model_module_version": "1.5.0",
      "model_name": "DescriptionStyleModel",
      "state": {
       "_model_module": "@jupyter-widgets/controls",
       "_model_module_version": "1.5.0",
       "_model_name": "DescriptionStyleModel",
       "_view_count": null,
       "_view_module": "@jupyter-widgets/base",
       "_view_module_version": "1.2.0",
       "_view_name": "StyleView",
       "description_width": ""
      }
     },
     "c30d2091ebfa496b85a0ae1841ccfa05": {
      "model_module": "@jupyter-widgets/controls",
      "model_module_version": "1.5.0",
      "model_name": "HBoxModel",
      "state": {
       "_dom_classes": [],
       "_model_module": "@jupyter-widgets/controls",
       "_model_module_version": "1.5.0",
       "_model_name": "HBoxModel",
       "_view_count": null,
       "_view_module": "@jupyter-widgets/controls",
       "_view_module_version": "1.5.0",
       "_view_name": "HBoxView",
       "box_style": "",
       "children": [
        "IPY_MODEL_9785a4865e0b4f9b8b0b4bdbd6adc064",
        "IPY_MODEL_7d4ed82524f245f0b2c74bf8e6404b3e",
        "IPY_MODEL_9ddb7296bb0346889bf5b845557361eb"
       ],
       "layout": "IPY_MODEL_0a03b47e4d1b4f0da24310070b3fafb4"
      }
     },
     "c71cafdfbbd34e07b6f6189dc7ee2b87": {
      "model_module": "@jupyter-widgets/controls",
      "model_module_version": "1.5.0",
      "model_name": "HTMLModel",
      "state": {
       "_dom_classes": [],
       "_model_module": "@jupyter-widgets/controls",
       "_model_module_version": "1.5.0",
       "_model_name": "HTMLModel",
       "_view_count": null,
       "_view_module": "@jupyter-widgets/controls",
       "_view_module_version": "1.5.0",
       "_view_name": "HTMLView",
       "description": "",
       "description_tooltip": null,
       "layout": "IPY_MODEL_e11c0d8eaf364825b6d367e1ff80845c",
       "placeholder": "​",
       "style": "IPY_MODEL_0bd4055c6a79416db454a34becdba4b0",
       "value": " 629/629 [00:00&lt;00:00, 42.8kB/s]"
      }
     },
     "cf2ef8cb13594639881714a331cc2714": {
      "model_module": "@jupyter-widgets/base",
      "model_module_version": "1.2.0",
      "model_name": "LayoutModel",
      "state": {
       "_model_module": "@jupyter-widgets/base",
       "_model_module_version": "1.2.0",
       "_model_name": "LayoutModel",
       "_view_count": null,
       "_view_module": "@jupyter-widgets/base",
       "_view_module_version": "1.2.0",
       "_view_name": "LayoutView",
       "align_content": null,
       "align_items": null,
       "align_self": null,
       "border": null,
       "bottom": null,
       "display": null,
       "flex": null,
       "flex_flow": null,
       "grid_area": null,
       "grid_auto_columns": null,
       "grid_auto_flow": null,
       "grid_auto_rows": null,
       "grid_column": null,
       "grid_gap": null,
       "grid_row": null,
       "grid_template_areas": null,
       "grid_template_columns": null,
       "grid_template_rows": null,
       "height": null,
       "justify_content": null,
       "justify_items": null,
       "left": null,
       "margin": null,
       "max_height": null,
       "max_width": null,
       "min_height": null,
       "min_width": null,
       "object_fit": null,
       "object_position": null,
       "order": null,
       "overflow": null,
       "overflow_x": null,
       "overflow_y": null,
       "padding": null,
       "right": null,
       "top": null,
       "visibility": null,
       "width": null
      }
     },
     "d533e844c2aa400ea1f4ea7d3ab0df37": {
      "model_module": "@jupyter-widgets/controls",
      "model_module_version": "1.5.0",
      "model_name": "HTMLModel",
      "state": {
       "_dom_classes": [],
       "_model_module": "@jupyter-widgets/controls",
       "_model_module_version": "1.5.0",
       "_model_name": "HTMLModel",
       "_view_count": null,
       "_view_module": "@jupyter-widgets/controls",
       "_view_module_version": "1.5.0",
       "_view_name": "HTMLView",
       "description": "",
       "description_tooltip": null,
       "layout": "IPY_MODEL_4acf131825ed40cd8037a9d1ce1fdb4b",
       "placeholder": "​",
       "style": "IPY_MODEL_467f19ceba48423abe76e6ac2f1af0dd",
       "value": "tokenizer_config.json: 100%"
      }
     },
     "d63ea799177b4acba0ea4117ec6037d7": {
      "model_module": "@jupyter-widgets/controls",
      "model_module_version": "1.5.0",
      "model_name": "DescriptionStyleModel",
      "state": {
       "_model_module": "@jupyter-widgets/controls",
       "_model_module_version": "1.5.0",
       "_model_name": "DescriptionStyleModel",
       "_view_count": null,
       "_view_module": "@jupyter-widgets/base",
       "_view_module_version": "1.2.0",
       "_view_name": "StyleView",
       "description_width": ""
      }
     },
     "d692173ac5f54cab997afca9c931660d": {
      "model_module": "@jupyter-widgets/controls",
      "model_module_version": "1.5.0",
      "model_name": "ProgressStyleModel",
      "state": {
       "_model_module": "@jupyter-widgets/controls",
       "_model_module_version": "1.5.0",
       "_model_name": "ProgressStyleModel",
       "_view_count": null,
       "_view_module": "@jupyter-widgets/base",
       "_view_module_version": "1.2.0",
       "_view_name": "StyleView",
       "bar_color": null,
       "description_width": ""
      }
     },
     "e11c0d8eaf364825b6d367e1ff80845c": {
      "model_module": "@jupyter-widgets/base",
      "model_module_version": "1.2.0",
      "model_name": "LayoutModel",
      "state": {
       "_model_module": "@jupyter-widgets/base",
       "_model_module_version": "1.2.0",
       "_model_name": "LayoutModel",
       "_view_count": null,
       "_view_module": "@jupyter-widgets/base",
       "_view_module_version": "1.2.0",
       "_view_name": "LayoutView",
       "align_content": null,
       "align_items": null,
       "align_self": null,
       "border": null,
       "bottom": null,
       "display": null,
       "flex": null,
       "flex_flow": null,
       "grid_area": null,
       "grid_auto_columns": null,
       "grid_auto_flow": null,
       "grid_auto_rows": null,
       "grid_column": null,
       "grid_gap": null,
       "grid_row": null,
       "grid_template_areas": null,
       "grid_template_columns": null,
       "grid_template_rows": null,
       "height": null,
       "justify_content": null,
       "justify_items": null,
       "left": null,
       "margin": null,
       "max_height": null,
       "max_width": null,
       "min_height": null,
       "min_width": null,
       "object_fit": null,
       "object_position": null,
       "order": null,
       "overflow": null,
       "overflow_x": null,
       "overflow_y": null,
       "padding": null,
       "right": null,
       "top": null,
       "visibility": null,
       "width": null
      }
     },
     "e44c6fad3701474d853afa5eae4c8c62": {
      "model_module": "@jupyter-widgets/base",
      "model_module_version": "1.2.0",
      "model_name": "LayoutModel",
      "state": {
       "_model_module": "@jupyter-widgets/base",
       "_model_module_version": "1.2.0",
       "_model_name": "LayoutModel",
       "_view_count": null,
       "_view_module": "@jupyter-widgets/base",
       "_view_module_version": "1.2.0",
       "_view_name": "LayoutView",
       "align_content": null,
       "align_items": null,
       "align_self": null,
       "border": null,
       "bottom": null,
       "display": null,
       "flex": null,
       "flex_flow": null,
       "grid_area": null,
       "grid_auto_columns": null,
       "grid_auto_flow": null,
       "grid_auto_rows": null,
       "grid_column": null,
       "grid_gap": null,
       "grid_row": null,
       "grid_template_areas": null,
       "grid_template_columns": null,
       "grid_template_rows": null,
       "height": null,
       "justify_content": null,
       "justify_items": null,
       "left": null,
       "margin": null,
       "max_height": null,
       "max_width": null,
       "min_height": null,
       "min_width": null,
       "object_fit": null,
       "object_position": null,
       "order": null,
       "overflow": null,
       "overflow_x": null,
       "overflow_y": null,
       "padding": null,
       "right": null,
       "top": null,
       "visibility": null,
       "width": null
      }
     },
     "e7abdff4b538486095992a29ab2a317a": {
      "model_module": "@jupyter-widgets/base",
      "model_module_version": "1.2.0",
      "model_name": "LayoutModel",
      "state": {
       "_model_module": "@jupyter-widgets/base",
       "_model_module_version": "1.2.0",
       "_model_name": "LayoutModel",
       "_view_count": null,
       "_view_module": "@jupyter-widgets/base",
       "_view_module_version": "1.2.0",
       "_view_name": "LayoutView",
       "align_content": null,
       "align_items": null,
       "align_self": null,
       "border": null,
       "bottom": null,
       "display": null,
       "flex": null,
       "flex_flow": null,
       "grid_area": null,
       "grid_auto_columns": null,
       "grid_auto_flow": null,
       "grid_auto_rows": null,
       "grid_column": null,
       "grid_gap": null,
       "grid_row": null,
       "grid_template_areas": null,
       "grid_template_columns": null,
       "grid_template_rows": null,
       "height": null,
       "justify_content": null,
       "justify_items": null,
       "left": null,
       "margin": null,
       "max_height": null,
       "max_width": null,
       "min_height": null,
       "min_width": null,
       "object_fit": null,
       "object_position": null,
       "order": null,
       "overflow": null,
       "overflow_x": null,
       "overflow_y": null,
       "padding": null,
       "right": null,
       "top": null,
       "visibility": null,
       "width": null
      }
     },
     "f1ff101b61ab4d8c98abed9b39f5be01": {
      "model_module": "@jupyter-widgets/controls",
      "model_module_version": "1.5.0",
      "model_name": "ProgressStyleModel",
      "state": {
       "_model_module": "@jupyter-widgets/controls",
       "_model_module_version": "1.5.0",
       "_model_name": "ProgressStyleModel",
       "_view_count": null,
       "_view_module": "@jupyter-widgets/base",
       "_view_module_version": "1.2.0",
       "_view_name": "StyleView",
       "bar_color": null,
       "description_width": ""
      }
     },
     "f5f919697e234232911e7cdc74f3dda6": {
      "model_module": "@jupyter-widgets/base",
      "model_module_version": "1.2.0",
      "model_name": "LayoutModel",
      "state": {
       "_model_module": "@jupyter-widgets/base",
       "_model_module_version": "1.2.0",
       "_model_name": "LayoutModel",
       "_view_count": null,
       "_view_module": "@jupyter-widgets/base",
       "_view_module_version": "1.2.0",
       "_view_name": "LayoutView",
       "align_content": null,
       "align_items": null,
       "align_self": null,
       "border": null,
       "bottom": null,
       "display": null,
       "flex": null,
       "flex_flow": null,
       "grid_area": null,
       "grid_auto_columns": null,
       "grid_auto_flow": null,
       "grid_auto_rows": null,
       "grid_column": null,
       "grid_gap": null,
       "grid_row": null,
       "grid_template_areas": null,
       "grid_template_columns": null,
       "grid_template_rows": null,
       "height": null,
       "justify_content": null,
       "justify_items": null,
       "left": null,
       "margin": null,
       "max_height": null,
       "max_width": null,
       "min_height": null,
       "min_width": null,
       "object_fit": null,
       "object_position": null,
       "order": null,
       "overflow": null,
       "overflow_x": null,
       "overflow_y": null,
       "padding": null,
       "right": null,
       "top": null,
       "visibility": null,
       "width": null
      }
     },
     "fa13e51570974afa87a3bcc55a791481": {
      "model_module": "@jupyter-widgets/controls",
      "model_module_version": "1.5.0",
      "model_name": "DescriptionStyleModel",
      "state": {
       "_model_module": "@jupyter-widgets/controls",
       "_model_module_version": "1.5.0",
       "_model_name": "DescriptionStyleModel",
       "_view_count": null,
       "_view_module": "@jupyter-widgets/base",
       "_view_module_version": "1.2.0",
       "_view_name": "StyleView",
       "description_width": ""
      }
     },
     "fdc6b0983bee4ec298e9827804500660": {
      "model_module": "@jupyter-widgets/base",
      "model_module_version": "1.2.0",
      "model_name": "LayoutModel",
      "state": {
       "_model_module": "@jupyter-widgets/base",
       "_model_module_version": "1.2.0",
       "_model_name": "LayoutModel",
       "_view_count": null,
       "_view_module": "@jupyter-widgets/base",
       "_view_module_version": "1.2.0",
       "_view_name": "LayoutView",
       "align_content": null,
       "align_items": null,
       "align_self": null,
       "border": null,
       "bottom": null,
       "display": null,
       "flex": null,
       "flex_flow": null,
       "grid_area": null,
       "grid_auto_columns": null,
       "grid_auto_flow": null,
       "grid_auto_rows": null,
       "grid_column": null,
       "grid_gap": null,
       "grid_row": null,
       "grid_template_areas": null,
       "grid_template_columns": null,
       "grid_template_rows": null,
       "height": null,
       "justify_content": null,
       "justify_items": null,
       "left": null,
       "margin": null,
       "max_height": null,
       "max_width": null,
       "min_height": null,
       "min_width": null,
       "object_fit": null,
       "object_position": null,
       "order": null,
       "overflow": null,
       "overflow_x": null,
       "overflow_y": null,
       "padding": null,
       "right": null,
       "top": null,
       "visibility": null,
       "width": null
      }
     }
    },
    "version_major": 2,
    "version_minor": 0
   }
  }
 },
 "nbformat": 4,
 "nbformat_minor": 5
}
